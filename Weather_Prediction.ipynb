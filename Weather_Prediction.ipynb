{
  "nbformat": 4,
  "nbformat_minor": 0,
  "metadata": {
    "colab": {
      "name": "Solution_174186U_ML",
      "provenance": [],
      "collapsed_sections": []
    },
    "kernelspec": {
      "name": "python3",
      "display_name": "Python 3"
    },
    "language_info": {
      "name": "python"
    }
  },
  "cells": [
    {
      "cell_type": "code",
      "metadata": {
        "id": "GEYaw7gZChq9"
      },
      "source": [
        "from sklearn import linear_model\n",
        "from sklearn import datasets\n",
        "from sklearn import preprocessing\n",
        "import pandas as pd\n",
        "import numpy as np\n",
        "from sklearn.preprocessing import StandardScaler\n",
        "from sklearn.preprocessing import FunctionTransformer\n",
        "from sklearn.preprocessing import StandardScaler\n",
        "from sklearn.decomposition import PCA\n",
        "from sklearn import linear_model\n",
        "from sklearn.model_selection import train_test_split\n",
        "import scipy.stats as stats\n",
        "import matplotlib.pyplot as plt\n",
        "from sklearn.preprocessing import KBinsDiscretizer\n",
        "from sklearn.preprocessing import OneHotEncoder"
      ],
      "execution_count": 315,
      "outputs": []
    },
    {
      "cell_type": "code",
      "metadata": {
        "colab": {
          "base_uri": "https://localhost:8080/"
        },
        "id": "rfgkeNqoGFb0",
        "outputId": "66e210c7-7036-4838-f9e4-a6491fc36a46"
      },
      "source": [
        "from google.colab import drive\n",
        "drive.mount(\"/content/gdrive\")"
      ],
      "execution_count": 316,
      "outputs": [
        {
          "output_type": "stream",
          "text": [
            "Drive already mounted at /content/gdrive; to attempt to forcibly remount, call drive.mount(\"/content/gdrive\", force_remount=True).\n"
          ],
          "name": "stdout"
        }
      ]
    },
    {
      "cell_type": "code",
      "metadata": {
        "colab": {
          "base_uri": "https://localhost:8080/",
          "height": 546
        },
        "id": "xYSMNJWgGPZ2",
        "outputId": "10f818ce-854b-4631-a005-54a166ba0442"
      },
      "source": [
        "import pandas as pd\n",
        "df_weather = pd.read_csv('/content/gdrive/MyDrive/Colab Notebooks/ML/data/weatherHistory.csv')\n",
        "df_weather.head(10)"
      ],
      "execution_count": 317,
      "outputs": [
        {
          "output_type": "execute_result",
          "data": {
            "text/html": [
              "<div>\n",
              "<style scoped>\n",
              "    .dataframe tbody tr th:only-of-type {\n",
              "        vertical-align: middle;\n",
              "    }\n",
              "\n",
              "    .dataframe tbody tr th {\n",
              "        vertical-align: top;\n",
              "    }\n",
              "\n",
              "    .dataframe thead th {\n",
              "        text-align: right;\n",
              "    }\n",
              "</style>\n",
              "<table border=\"1\" class=\"dataframe\">\n",
              "  <thead>\n",
              "    <tr style=\"text-align: right;\">\n",
              "      <th></th>\n",
              "      <th>Formatted Date</th>\n",
              "      <th>Summary</th>\n",
              "      <th>Precip Type</th>\n",
              "      <th>Temperature (C)</th>\n",
              "      <th>Apparent Temperature (C)</th>\n",
              "      <th>Humidity</th>\n",
              "      <th>Wind Speed (km/h)</th>\n",
              "      <th>Wind Bearing (degrees)</th>\n",
              "      <th>Visibility (km)</th>\n",
              "      <th>Loud Cover</th>\n",
              "      <th>Pressure (millibars)</th>\n",
              "      <th>Daily Summary</th>\n",
              "    </tr>\n",
              "  </thead>\n",
              "  <tbody>\n",
              "    <tr>\n",
              "      <th>0</th>\n",
              "      <td>2006-04-01 00:00:00.000 +0200</td>\n",
              "      <td>Partly Cloudy</td>\n",
              "      <td>rain</td>\n",
              "      <td>9.472222</td>\n",
              "      <td>7.388889</td>\n",
              "      <td>0.89</td>\n",
              "      <td>14.1197</td>\n",
              "      <td>251.0</td>\n",
              "      <td>15.8263</td>\n",
              "      <td>0.0</td>\n",
              "      <td>1015.13</td>\n",
              "      <td>Partly cloudy throughout the day.</td>\n",
              "    </tr>\n",
              "    <tr>\n",
              "      <th>1</th>\n",
              "      <td>2006-04-01 01:00:00.000 +0200</td>\n",
              "      <td>Partly Cloudy</td>\n",
              "      <td>rain</td>\n",
              "      <td>9.355556</td>\n",
              "      <td>7.227778</td>\n",
              "      <td>0.86</td>\n",
              "      <td>14.2646</td>\n",
              "      <td>259.0</td>\n",
              "      <td>15.8263</td>\n",
              "      <td>0.0</td>\n",
              "      <td>1015.63</td>\n",
              "      <td>Partly cloudy throughout the day.</td>\n",
              "    </tr>\n",
              "    <tr>\n",
              "      <th>2</th>\n",
              "      <td>2006-04-01 02:00:00.000 +0200</td>\n",
              "      <td>Mostly Cloudy</td>\n",
              "      <td>rain</td>\n",
              "      <td>9.377778</td>\n",
              "      <td>9.377778</td>\n",
              "      <td>0.89</td>\n",
              "      <td>3.9284</td>\n",
              "      <td>204.0</td>\n",
              "      <td>14.9569</td>\n",
              "      <td>0.0</td>\n",
              "      <td>1015.94</td>\n",
              "      <td>Partly cloudy throughout the day.</td>\n",
              "    </tr>\n",
              "    <tr>\n",
              "      <th>3</th>\n",
              "      <td>2006-04-01 03:00:00.000 +0200</td>\n",
              "      <td>Partly Cloudy</td>\n",
              "      <td>rain</td>\n",
              "      <td>8.288889</td>\n",
              "      <td>5.944444</td>\n",
              "      <td>0.83</td>\n",
              "      <td>14.1036</td>\n",
              "      <td>269.0</td>\n",
              "      <td>15.8263</td>\n",
              "      <td>0.0</td>\n",
              "      <td>1016.41</td>\n",
              "      <td>Partly cloudy throughout the day.</td>\n",
              "    </tr>\n",
              "    <tr>\n",
              "      <th>4</th>\n",
              "      <td>2006-04-01 04:00:00.000 +0200</td>\n",
              "      <td>Mostly Cloudy</td>\n",
              "      <td>rain</td>\n",
              "      <td>8.755556</td>\n",
              "      <td>6.977778</td>\n",
              "      <td>0.83</td>\n",
              "      <td>11.0446</td>\n",
              "      <td>259.0</td>\n",
              "      <td>15.8263</td>\n",
              "      <td>0.0</td>\n",
              "      <td>1016.51</td>\n",
              "      <td>Partly cloudy throughout the day.</td>\n",
              "    </tr>\n",
              "    <tr>\n",
              "      <th>5</th>\n",
              "      <td>2006-04-01 05:00:00.000 +0200</td>\n",
              "      <td>Partly Cloudy</td>\n",
              "      <td>rain</td>\n",
              "      <td>9.222222</td>\n",
              "      <td>7.111111</td>\n",
              "      <td>0.85</td>\n",
              "      <td>13.9587</td>\n",
              "      <td>258.0</td>\n",
              "      <td>14.9569</td>\n",
              "      <td>0.0</td>\n",
              "      <td>1016.66</td>\n",
              "      <td>Partly cloudy throughout the day.</td>\n",
              "    </tr>\n",
              "    <tr>\n",
              "      <th>6</th>\n",
              "      <td>2006-04-01 06:00:00.000 +0200</td>\n",
              "      <td>Partly Cloudy</td>\n",
              "      <td>rain</td>\n",
              "      <td>7.733333</td>\n",
              "      <td>5.522222</td>\n",
              "      <td>0.95</td>\n",
              "      <td>12.3648</td>\n",
              "      <td>259.0</td>\n",
              "      <td>9.9820</td>\n",
              "      <td>0.0</td>\n",
              "      <td>1016.72</td>\n",
              "      <td>Partly cloudy throughout the day.</td>\n",
              "    </tr>\n",
              "    <tr>\n",
              "      <th>7</th>\n",
              "      <td>2006-04-01 07:00:00.000 +0200</td>\n",
              "      <td>Partly Cloudy</td>\n",
              "      <td>rain</td>\n",
              "      <td>8.772222</td>\n",
              "      <td>6.527778</td>\n",
              "      <td>0.89</td>\n",
              "      <td>14.1519</td>\n",
              "      <td>260.0</td>\n",
              "      <td>9.9820</td>\n",
              "      <td>0.0</td>\n",
              "      <td>1016.84</td>\n",
              "      <td>Partly cloudy throughout the day.</td>\n",
              "    </tr>\n",
              "    <tr>\n",
              "      <th>8</th>\n",
              "      <td>2006-04-01 08:00:00.000 +0200</td>\n",
              "      <td>Partly Cloudy</td>\n",
              "      <td>rain</td>\n",
              "      <td>10.822222</td>\n",
              "      <td>10.822222</td>\n",
              "      <td>0.82</td>\n",
              "      <td>11.3183</td>\n",
              "      <td>259.0</td>\n",
              "      <td>9.9820</td>\n",
              "      <td>0.0</td>\n",
              "      <td>1017.37</td>\n",
              "      <td>Partly cloudy throughout the day.</td>\n",
              "    </tr>\n",
              "    <tr>\n",
              "      <th>9</th>\n",
              "      <td>2006-04-01 09:00:00.000 +0200</td>\n",
              "      <td>Partly Cloudy</td>\n",
              "      <td>rain</td>\n",
              "      <td>13.772222</td>\n",
              "      <td>13.772222</td>\n",
              "      <td>0.72</td>\n",
              "      <td>12.5258</td>\n",
              "      <td>279.0</td>\n",
              "      <td>9.9820</td>\n",
              "      <td>0.0</td>\n",
              "      <td>1017.22</td>\n",
              "      <td>Partly cloudy throughout the day.</td>\n",
              "    </tr>\n",
              "  </tbody>\n",
              "</table>\n",
              "</div>"
            ],
            "text/plain": [
              "                  Formatted Date  ...                      Daily Summary\n",
              "0  2006-04-01 00:00:00.000 +0200  ...  Partly cloudy throughout the day.\n",
              "1  2006-04-01 01:00:00.000 +0200  ...  Partly cloudy throughout the day.\n",
              "2  2006-04-01 02:00:00.000 +0200  ...  Partly cloudy throughout the day.\n",
              "3  2006-04-01 03:00:00.000 +0200  ...  Partly cloudy throughout the day.\n",
              "4  2006-04-01 04:00:00.000 +0200  ...  Partly cloudy throughout the day.\n",
              "5  2006-04-01 05:00:00.000 +0200  ...  Partly cloudy throughout the day.\n",
              "6  2006-04-01 06:00:00.000 +0200  ...  Partly cloudy throughout the day.\n",
              "7  2006-04-01 07:00:00.000 +0200  ...  Partly cloudy throughout the day.\n",
              "8  2006-04-01 08:00:00.000 +0200  ...  Partly cloudy throughout the day.\n",
              "9  2006-04-01 09:00:00.000 +0200  ...  Partly cloudy throughout the day.\n",
              "\n",
              "[10 rows x 12 columns]"
            ]
          },
          "metadata": {
            "tags": []
          },
          "execution_count": 317
        }
      ]
    },
    {
      "cell_type": "code",
      "metadata": {
        "colab": {
          "base_uri": "https://localhost:8080/"
        },
        "id": "ozT2EqyGGRc2",
        "outputId": "ff38e7de-c81d-4665-c4c5-d7946ddecda8"
      },
      "source": [
        "df_weather.columns"
      ],
      "execution_count": 318,
      "outputs": [
        {
          "output_type": "execute_result",
          "data": {
            "text/plain": [
              "Index(['Formatted Date', 'Summary', 'Precip Type', 'Temperature (C)',\n",
              "       'Apparent Temperature (C)', 'Humidity', 'Wind Speed (km/h)',\n",
              "       'Wind Bearing (degrees)', 'Visibility (km)', 'Loud Cover',\n",
              "       'Pressure (millibars)', 'Daily Summary'],\n",
              "      dtype='object')"
            ]
          },
          "metadata": {
            "tags": []
          },
          "execution_count": 318
        }
      ]
    },
    {
      "cell_type": "code",
      "metadata": {
        "colab": {
          "base_uri": "https://localhost:8080/"
        },
        "id": "5Jn8cSppbzrm",
        "outputId": "884b69a1-a24d-479b-d1d8-27dc30ca88ee"
      },
      "source": [
        "df_weather.shape"
      ],
      "execution_count": 319,
      "outputs": [
        {
          "output_type": "execute_result",
          "data": {
            "text/plain": [
              "(96453, 12)"
            ]
          },
          "metadata": {
            "tags": []
          },
          "execution_count": 319
        }
      ]
    },
    {
      "cell_type": "code",
      "metadata": {
        "colab": {
          "base_uri": "https://localhost:8080/",
          "height": 297
        },
        "id": "z7nV5o_Wd2Az",
        "outputId": "ca9cdb15-33b8-4d74-8c99-69d47c78d60d"
      },
      "source": [
        "df_weather.describe()"
      ],
      "execution_count": 320,
      "outputs": [
        {
          "output_type": "execute_result",
          "data": {
            "text/html": [
              "<div>\n",
              "<style scoped>\n",
              "    .dataframe tbody tr th:only-of-type {\n",
              "        vertical-align: middle;\n",
              "    }\n",
              "\n",
              "    .dataframe tbody tr th {\n",
              "        vertical-align: top;\n",
              "    }\n",
              "\n",
              "    .dataframe thead th {\n",
              "        text-align: right;\n",
              "    }\n",
              "</style>\n",
              "<table border=\"1\" class=\"dataframe\">\n",
              "  <thead>\n",
              "    <tr style=\"text-align: right;\">\n",
              "      <th></th>\n",
              "      <th>Temperature (C)</th>\n",
              "      <th>Apparent Temperature (C)</th>\n",
              "      <th>Humidity</th>\n",
              "      <th>Wind Speed (km/h)</th>\n",
              "      <th>Wind Bearing (degrees)</th>\n",
              "      <th>Visibility (km)</th>\n",
              "      <th>Loud Cover</th>\n",
              "      <th>Pressure (millibars)</th>\n",
              "    </tr>\n",
              "  </thead>\n",
              "  <tbody>\n",
              "    <tr>\n",
              "      <th>count</th>\n",
              "      <td>96453.000000</td>\n",
              "      <td>96453.000000</td>\n",
              "      <td>96453.000000</td>\n",
              "      <td>96453.000000</td>\n",
              "      <td>96453.000000</td>\n",
              "      <td>96453.000000</td>\n",
              "      <td>96453.0</td>\n",
              "      <td>96453.000000</td>\n",
              "    </tr>\n",
              "    <tr>\n",
              "      <th>mean</th>\n",
              "      <td>11.932678</td>\n",
              "      <td>10.855029</td>\n",
              "      <td>0.734899</td>\n",
              "      <td>10.810640</td>\n",
              "      <td>187.509232</td>\n",
              "      <td>10.347325</td>\n",
              "      <td>0.0</td>\n",
              "      <td>1003.235956</td>\n",
              "    </tr>\n",
              "    <tr>\n",
              "      <th>std</th>\n",
              "      <td>9.551546</td>\n",
              "      <td>10.696847</td>\n",
              "      <td>0.195473</td>\n",
              "      <td>6.913571</td>\n",
              "      <td>107.383428</td>\n",
              "      <td>4.192123</td>\n",
              "      <td>0.0</td>\n",
              "      <td>116.969906</td>\n",
              "    </tr>\n",
              "    <tr>\n",
              "      <th>min</th>\n",
              "      <td>-21.822222</td>\n",
              "      <td>-27.716667</td>\n",
              "      <td>0.000000</td>\n",
              "      <td>0.000000</td>\n",
              "      <td>0.000000</td>\n",
              "      <td>0.000000</td>\n",
              "      <td>0.0</td>\n",
              "      <td>0.000000</td>\n",
              "    </tr>\n",
              "    <tr>\n",
              "      <th>25%</th>\n",
              "      <td>4.688889</td>\n",
              "      <td>2.311111</td>\n",
              "      <td>0.600000</td>\n",
              "      <td>5.828200</td>\n",
              "      <td>116.000000</td>\n",
              "      <td>8.339800</td>\n",
              "      <td>0.0</td>\n",
              "      <td>1011.900000</td>\n",
              "    </tr>\n",
              "    <tr>\n",
              "      <th>50%</th>\n",
              "      <td>12.000000</td>\n",
              "      <td>12.000000</td>\n",
              "      <td>0.780000</td>\n",
              "      <td>9.965900</td>\n",
              "      <td>180.000000</td>\n",
              "      <td>10.046400</td>\n",
              "      <td>0.0</td>\n",
              "      <td>1016.450000</td>\n",
              "    </tr>\n",
              "    <tr>\n",
              "      <th>75%</th>\n",
              "      <td>18.838889</td>\n",
              "      <td>18.838889</td>\n",
              "      <td>0.890000</td>\n",
              "      <td>14.135800</td>\n",
              "      <td>290.000000</td>\n",
              "      <td>14.812000</td>\n",
              "      <td>0.0</td>\n",
              "      <td>1021.090000</td>\n",
              "    </tr>\n",
              "    <tr>\n",
              "      <th>max</th>\n",
              "      <td>39.905556</td>\n",
              "      <td>39.344444</td>\n",
              "      <td>1.000000</td>\n",
              "      <td>63.852600</td>\n",
              "      <td>359.000000</td>\n",
              "      <td>16.100000</td>\n",
              "      <td>0.0</td>\n",
              "      <td>1046.380000</td>\n",
              "    </tr>\n",
              "  </tbody>\n",
              "</table>\n",
              "</div>"
            ],
            "text/plain": [
              "       Temperature (C)  ...  Pressure (millibars)\n",
              "count     96453.000000  ...          96453.000000\n",
              "mean         11.932678  ...           1003.235956\n",
              "std           9.551546  ...            116.969906\n",
              "min         -21.822222  ...              0.000000\n",
              "25%           4.688889  ...           1011.900000\n",
              "50%          12.000000  ...           1016.450000\n",
              "75%          18.838889  ...           1021.090000\n",
              "max          39.905556  ...           1046.380000\n",
              "\n",
              "[8 rows x 8 columns]"
            ]
          },
          "metadata": {
            "tags": []
          },
          "execution_count": 320
        }
      ]
    },
    {
      "cell_type": "markdown",
      "metadata": {
        "id": "lexBirMcw0Ch"
      },
      "source": [
        "Handling duplicate values"
      ]
    },
    {
      "cell_type": "code",
      "metadata": {
        "colab": {
          "base_uri": "https://localhost:8080/"
        },
        "id": "RSN5ApfmJFqa",
        "outputId": "3d07f8ed-ba4d-4f21-ec9e-629dcf4e76eb"
      },
      "source": [
        "df_weather.duplicated().value_counts()"
      ],
      "execution_count": 321,
      "outputs": [
        {
          "output_type": "execute_result",
          "data": {
            "text/plain": [
              "False    96429\n",
              "True        24\n",
              "dtype: int64"
            ]
          },
          "metadata": {
            "tags": []
          },
          "execution_count": 321
        }
      ]
    },
    {
      "cell_type": "code",
      "metadata": {
        "id": "5Kuz1dh2JHc5"
      },
      "source": [
        "df_weather=df_weather.drop_duplicates()"
      ],
      "execution_count": 322,
      "outputs": []
    },
    {
      "cell_type": "markdown",
      "metadata": {
        "id": "cVOgutGrw9wK"
      },
      "source": [
        "Dropping formatted date, daily summary, loud cover columns"
      ]
    },
    {
      "cell_type": "code",
      "metadata": {
        "colab": {
          "base_uri": "https://localhost:8080/"
        },
        "id": "GMR2YFjXJBh7",
        "outputId": "94b53468-1844-4f63-f52c-faf270036ada"
      },
      "source": [
        "df_weather.nunique()"
      ],
      "execution_count": 323,
      "outputs": [
        {
          "output_type": "execute_result",
          "data": {
            "text/plain": [
              "Formatted Date              96429\n",
              "Summary                        27\n",
              "Precip Type                     2\n",
              "Temperature (C)              7574\n",
              "Apparent Temperature (C)     8984\n",
              "Humidity                       90\n",
              "Wind Speed (km/h)            2484\n",
              "Wind Bearing (degrees)        360\n",
              "Visibility (km)               949\n",
              "Loud Cover                      1\n",
              "Pressure (millibars)         4979\n",
              "Daily Summary                 214\n",
              "dtype: int64"
            ]
          },
          "metadata": {
            "tags": []
          },
          "execution_count": 323
        }
      ]
    },
    {
      "cell_type": "code",
      "metadata": {
        "id": "aOZqmsMBJKIe"
      },
      "source": [
        "df_weather=df_weather.drop(columns='Formatted Date',axis=1)"
      ],
      "execution_count": 324,
      "outputs": []
    },
    {
      "cell_type": "code",
      "metadata": {
        "colab": {
          "base_uri": "https://localhost:8080/"
        },
        "id": "V1RHAvURJNT2",
        "outputId": "53eaf080-eeb2-4c03-a425-854d626531c4"
      },
      "source": [
        "df_weather['Loud Cover'].value_counts()"
      ],
      "execution_count": 325,
      "outputs": [
        {
          "output_type": "execute_result",
          "data": {
            "text/plain": [
              "0.0    96429\n",
              "Name: Loud Cover, dtype: int64"
            ]
          },
          "metadata": {
            "tags": []
          },
          "execution_count": 325
        }
      ]
    },
    {
      "cell_type": "code",
      "metadata": {
        "id": "PKLEyY6cJPsn"
      },
      "source": [
        "df_weather=df_weather.drop(columns='Loud Cover',axis=1)"
      ],
      "execution_count": 326,
      "outputs": []
    },
    {
      "cell_type": "code",
      "metadata": {
        "id": "L7dcDwDwJRxX"
      },
      "source": [
        "df_weather=df_weather.drop(columns='Daily Summary',axis=1)"
      ],
      "execution_count": 327,
      "outputs": []
    },
    {
      "cell_type": "markdown",
      "metadata": {
        "id": "z_mPRNGpxJAG"
      },
      "source": [
        "Handling missing values"
      ]
    },
    {
      "cell_type": "code",
      "metadata": {
        "colab": {
          "base_uri": "https://localhost:8080/"
        },
        "id": "48JRYdjWGi8c",
        "outputId": "36bf876e-3097-4665-dd6d-e1cb83f76521"
      },
      "source": [
        "df_weather.isnull().values.any()"
      ],
      "execution_count": 328,
      "outputs": [
        {
          "output_type": "execute_result",
          "data": {
            "text/plain": [
              "True"
            ]
          },
          "metadata": {
            "tags": []
          },
          "execution_count": 328
        }
      ]
    },
    {
      "cell_type": "code",
      "metadata": {
        "colab": {
          "base_uri": "https://localhost:8080/"
        },
        "id": "gSL4eAHiGtL1",
        "outputId": "ec4eb3e0-af37-4c4b-ed53-94eeb72cdbc3"
      },
      "source": [
        "df_weather.isnull().values.all()"
      ],
      "execution_count": 329,
      "outputs": [
        {
          "output_type": "execute_result",
          "data": {
            "text/plain": [
              "False"
            ]
          },
          "metadata": {
            "tags": []
          },
          "execution_count": 329
        }
      ]
    },
    {
      "cell_type": "code",
      "metadata": {
        "colab": {
          "base_uri": "https://localhost:8080/"
        },
        "id": "FLA7-jKpGvX0",
        "outputId": "fe2a9e1c-dafa-419b-882f-1ce04f953cb2"
      },
      "source": [
        "percent_missing = (df_weather.isnull().sum() * 100 / len(df_weather))\n",
        "percent_missing"
      ],
      "execution_count": 330,
      "outputs": [
        {
          "output_type": "execute_result",
          "data": {
            "text/plain": [
              "Summary                     0.000000\n",
              "Precip Type                 0.536146\n",
              "Temperature (C)             0.000000\n",
              "Apparent Temperature (C)    0.000000\n",
              "Humidity                    0.000000\n",
              "Wind Speed (km/h)           0.000000\n",
              "Wind Bearing (degrees)      0.000000\n",
              "Visibility (km)             0.000000\n",
              "Pressure (millibars)        0.000000\n",
              "dtype: float64"
            ]
          },
          "metadata": {
            "tags": []
          },
          "execution_count": 330
        }
      ]
    },
    {
      "cell_type": "code",
      "metadata": {
        "colab": {
          "base_uri": "https://localhost:8080/"
        },
        "id": "8mUrTH3mG86s",
        "outputId": "58c34f81-5afb-4f24-dfbe-ff3cdb437997"
      },
      "source": [
        "df_weather['Precip Type'].value_counts()"
      ],
      "execution_count": 331,
      "outputs": [
        {
          "output_type": "execute_result",
          "data": {
            "text/plain": [
              "rain    85200\n",
              "snow    10712\n",
              "Name: Precip Type, dtype: int64"
            ]
          },
          "metadata": {
            "tags": []
          },
          "execution_count": 331
        }
      ]
    },
    {
      "cell_type": "code",
      "metadata": {
        "id": "ti-Y0hlTHCK2"
      },
      "source": [
        "df_weather.loc[df_weather['Precip Type'].isnull(),'Precip Type']='na'"
      ],
      "execution_count": 332,
      "outputs": []
    },
    {
      "cell_type": "code",
      "metadata": {
        "colab": {
          "base_uri": "https://localhost:8080/"
        },
        "id": "DpqOdQJVha5C",
        "outputId": "b34d8474-feb7-4a78-864f-ee2f85aada89"
      },
      "source": [
        "df_weather['Precip Type'].value_counts()"
      ],
      "execution_count": 333,
      "outputs": [
        {
          "output_type": "execute_result",
          "data": {
            "text/plain": [
              "rain    85200\n",
              "snow    10712\n",
              "na        517\n",
              "Name: Precip Type, dtype: int64"
            ]
          },
          "metadata": {
            "tags": []
          },
          "execution_count": 333
        }
      ]
    },
    {
      "cell_type": "markdown",
      "metadata": {
        "id": "Qfy0n_WkxNwX"
      },
      "source": [
        "Handling outliers"
      ]
    },
    {
      "cell_type": "code",
      "metadata": {
        "colab": {
          "base_uri": "https://localhost:8080/",
          "height": 282
        },
        "id": "tQM5M3ADHIGU",
        "outputId": "d326c44d-31d2-413b-8066-060405031fdb"
      },
      "source": [
        "df_weather.boxplot()"
      ],
      "execution_count": 334,
      "outputs": [
        {
          "output_type": "execute_result",
          "data": {
            "text/plain": [
              "<matplotlib.axes._subplots.AxesSubplot at 0x7fc5871ab150>"
            ]
          },
          "metadata": {
            "tags": []
          },
          "execution_count": 334
        },
        {
          "output_type": "display_data",
          "data": {
            "image/png": "[encoded data removed]",
            "text/plain": [
              "<Figure size 432x288 with 1 Axes>"
            ]
          },
          "metadata": {
            "tags": [],
            "needs_background": "light"
          }
        }
      ]
    },
    {
      "cell_type": "code",
      "metadata": {
        "colab": {
          "base_uri": "https://localhost:8080/",
          "height": 282
        },
        "id": "qKt1crQr0q2S",
        "outputId": "301e96fb-43a8-41a9-a047-da5c357240f9"
      },
      "source": [
        "df_weather.boxplot(column='Apparent Temperature (C)')"
      ],
      "execution_count": 335,
      "outputs": [
        {
          "output_type": "execute_result",
          "data": {
            "text/plain": [
              "<matplotlib.axes._subplots.AxesSubplot at 0x7fc5869430d0>"
            ]
          },
          "metadata": {
            "tags": []
          },
          "execution_count": 335
        },
        {
          "output_type": "display_data",
          "data": {
            "image/png": "[encoded data removed]",
            "text/plain": [
              "<Figure size 432x288 with 1 Axes>"
            ]
          },
          "metadata": {
            "tags": [],
            "needs_background": "light"
          }
        }
      ]
    },
    {
      "cell_type": "code",
      "metadata": {
        "colab": {
          "base_uri": "https://localhost:8080/",
          "height": 282
        },
        "id": "jPhlDS_ubUWN",
        "outputId": "eb749022-3cfb-46a4-e5b5-64a561cb6b46"
      },
      "source": [
        "df_weather.boxplot(column='Temperature (C)')"
      ],
      "execution_count": 336,
      "outputs": [
        {
          "output_type": "execute_result",
          "data": {
            "text/plain": [
              "<matplotlib.axes._subplots.AxesSubplot at 0x7fc5868b6cd0>"
            ]
          },
          "metadata": {
            "tags": []
          },
          "execution_count": 336
        },
        {
          "output_type": "display_data",
          "data": {
            "image/png": "[encoded data removed]",
            "text/plain": [
              "<Figure size 432x288 with 1 Axes>"
            ]
          },
          "metadata": {
            "tags": [],
            "needs_background": "light"
          }
        }
      ]
    },
    {
      "cell_type": "code",
      "metadata": {
        "colab": {
          "base_uri": "https://localhost:8080/",
          "height": 282
        },
        "id": "8pzkt0P-basr",
        "outputId": "715bd880-b74d-494a-b1f2-52e2d2574456"
      },
      "source": [
        "df_weather.boxplot(column='Humidity')"
      ],
      "execution_count": 337,
      "outputs": [
        {
          "output_type": "execute_result",
          "data": {
            "text/plain": [
              "<matplotlib.axes._subplots.AxesSubplot at 0x7fc586872c90>"
            ]
          },
          "metadata": {
            "tags": []
          },
          "execution_count": 337
        },
        {
          "output_type": "display_data",
          "data": {
            "image/png": "[encoded data removed]",
            "text/plain": [
              "<Figure size 432x288 with 1 Axes>"
            ]
          },
          "metadata": {
            "tags": [],
            "needs_background": "light"
          }
        }
      ]
    },
    {
      "cell_type": "code",
      "metadata": {
        "colab": {
          "base_uri": "https://localhost:8080/",
          "height": 282
        },
        "id": "9d8wLQ5qcLAf",
        "outputId": "f4ff0129-525e-4628-f41f-cbf8c379a355"
      },
      "source": [
        "df_weather.boxplot(column='Wind Speed (km/h)')"
      ],
      "execution_count": 338,
      "outputs": [
        {
          "output_type": "execute_result",
          "data": {
            "text/plain": [
              "<matplotlib.axes._subplots.AxesSubplot at 0x7fc5868728d0>"
            ]
          },
          "metadata": {
            "tags": []
          },
          "execution_count": 338
        },
        {
          "output_type": "display_data",
          "data": {
            "image/png": "[encoded data removed]",
            "text/plain": [
              "<Figure size 432x288 with 1 Axes>"
            ]
          },
          "metadata": {
            "tags": [],
            "needs_background": "light"
          }
        }
      ]
    },
    {
      "cell_type": "code",
      "metadata": {
        "colab": {
          "base_uri": "https://localhost:8080/",
          "height": 282
        },
        "id": "hmIoxze4caP3",
        "outputId": "c6e4b550-380d-4155-9a76-f875ce52e481"
      },
      "source": [
        "df_weather.boxplot(column='Wind Bearing (degrees)')"
      ],
      "execution_count": 339,
      "outputs": [
        {
          "output_type": "execute_result",
          "data": {
            "text/plain": [
              "<matplotlib.axes._subplots.AxesSubplot at 0x7fc5867cead0>"
            ]
          },
          "metadata": {
            "tags": []
          },
          "execution_count": 339
        },
        {
          "output_type": "display_data",
          "data": {
            "image/png": "[encoded data removed]",
            "text/plain": [
              "<Figure size 432x288 with 1 Axes>"
            ]
          },
          "metadata": {
            "tags": [],
            "needs_background": "light"
          }
        }
      ]
    },
    {
      "cell_type": "code",
      "metadata": {
        "colab": {
          "base_uri": "https://localhost:8080/",
          "height": 282
        },
        "id": "aPMjoMVDccWs",
        "outputId": "aa364562-cee1-4772-df69-2d7b11ccc4e0"
      },
      "source": [
        "df_weather.boxplot(column='Visibility (km)')"
      ],
      "execution_count": 340,
      "outputs": [
        {
          "output_type": "execute_result",
          "data": {
            "text/plain": [
              "<matplotlib.axes._subplots.AxesSubplot at 0x7fc587f58d90>"
            ]
          },
          "metadata": {
            "tags": []
          },
          "execution_count": 340
        },
        {
          "output_type": "display_data",
          "data": {
            "image/png": "[encoded data removed]",
            "text/plain": [
              "<Figure size 432x288 with 1 Axes>"
            ]
          },
          "metadata": {
            "tags": [],
            "needs_background": "light"
          }
        }
      ]
    },
    {
      "cell_type": "code",
      "metadata": {
        "colab": {
          "base_uri": "https://localhost:8080/",
          "height": 282
        },
        "id": "It9EwWJXcgUL",
        "outputId": "b993d12a-83c2-4806-8e8b-882743979fb9"
      },
      "source": [
        "df_weather.boxplot(column='Pressure (millibars)')"
      ],
      "execution_count": 341,
      "outputs": [
        {
          "output_type": "execute_result",
          "data": {
            "text/plain": [
              "<matplotlib.axes._subplots.AxesSubplot at 0x7fc587f44e10>"
            ]
          },
          "metadata": {
            "tags": []
          },
          "execution_count": 341
        },
        {
          "output_type": "display_data",
          "data": {
            "image/png": "[encoded data removed]",
            "text/plain": [
              "<Figure size 432x288 with 1 Axes>"
            ]
          },
          "metadata": {
            "tags": [],
            "needs_background": "light"
          }
        }
      ]
    },
    {
      "cell_type": "code",
      "metadata": {
        "colab": {
          "base_uri": "https://localhost:8080/"
        },
        "id": "URfUkfsWcjCQ",
        "outputId": "861b8e1d-0490-47fc-8393-b54667e1dcc0"
      },
      "source": [
        "df_weather1=df_weather.drop(df_weather[df_weather['Pressure (millibars)'] < 200].index)\n",
        "print(\"Before Shape:\",df_weather.shape)\n",
        "print(\"After Shape:\",df_weather1.shape)\n",
        "\n",
        "df_weather=df_weather1;\n",
        "df_weather=df_weather.reset_index(drop=True)"
      ],
      "execution_count": 342,
      "outputs": [
        {
          "output_type": "stream",
          "text": [
            "Before Shape: (96429, 9)\n",
            "After Shape: (95141, 9)\n"
          ],
          "name": "stdout"
        }
      ]
    },
    {
      "cell_type": "code",
      "metadata": {
        "colab": {
          "base_uri": "https://localhost:8080/",
          "height": 451
        },
        "id": "5Y0ZzJOh2TLr",
        "outputId": "c7c351fe-0a0e-4504-b606-c5257e18467c"
      },
      "source": [
        "df_weather.hist()"
      ],
      "execution_count": 343,
      "outputs": [
        {
          "output_type": "execute_result",
          "data": {
            "text/plain": [
              "array([[<matplotlib.axes._subplots.AxesSubplot object at 0x7fc58e474ad0>,\n",
              "        <matplotlib.axes._subplots.AxesSubplot object at 0x7fc58bb09f10>,\n",
              "        <matplotlib.axes._subplots.AxesSubplot object at 0x7fc58e515e90>],\n",
              "       [<matplotlib.axes._subplots.AxesSubplot object at 0x7fc58a0e9210>,\n",
              "        <matplotlib.axes._subplots.AxesSubplot object at 0x7fc58a10b9d0>,\n",
              "        <matplotlib.axes._subplots.AxesSubplot object at 0x7fc58e52e290>],\n",
              "       [<matplotlib.axes._subplots.AxesSubplot object at 0x7fc58a00dd50>,\n",
              "        <matplotlib.axes._subplots.AxesSubplot object at 0x7fc588290410>,\n",
              "        <matplotlib.axes._subplots.AxesSubplot object at 0x7fc588290f50>]],\n",
              "      dtype=object)"
            ]
          },
          "metadata": {
            "tags": []
          },
          "execution_count": 343
        },
        {
          "output_type": "display_data",
          "data": {
            "image/png": "[encoded data removed]",
            "text/plain": [
              "<Figure size 432x288 with 9 Axes>"
            ]
          },
          "metadata": {
            "tags": [],
            "needs_background": "light"
          }
        }
      ]
    },
    {
      "cell_type": "code",
      "metadata": {
        "colab": {
          "base_uri": "https://localhost:8080/",
          "height": 359
        },
        "id": "mY_i6gXaGVQm",
        "outputId": "f18e1052-1e5a-4186-e130-1ae0115d6a34"
      },
      "source": [
        "# define the data/predictors as the pre-set feature names  \n",
        "df = pd.DataFrame(df_weather, columns=['Summary', 'Precip Type', 'Temperature (C)','Humidity', 'Wind Speed (km/h)','Wind Bearing (degrees)', 'Visibility (km)','Pressure (millibars)'])\n",
        "df.head(10)"
      ],
      "execution_count": 344,
      "outputs": [
        {
          "output_type": "execute_result",
          "data": {
            "text/html": [
              "<div>\n",
              "<style scoped>\n",
              "    .dataframe tbody tr th:only-of-type {\n",
              "        vertical-align: middle;\n",
              "    }\n",
              "\n",
              "    .dataframe tbody tr th {\n",
              "        vertical-align: top;\n",
              "    }\n",
              "\n",
              "    .dataframe thead th {\n",
              "        text-align: right;\n",
              "    }\n",
              "</style>\n",
              "<table border=\"1\" class=\"dataframe\">\n",
              "  <thead>\n",
              "    <tr style=\"text-align: right;\">\n",
              "      <th></th>\n",
              "      <th>Summary</th>\n",
              "      <th>Precip Type</th>\n",
              "      <th>Temperature (C)</th>\n",
              "      <th>Humidity</th>\n",
              "      <th>Wind Speed (km/h)</th>\n",
              "      <th>Wind Bearing (degrees)</th>\n",
              "      <th>Visibility (km)</th>\n",
              "      <th>Pressure (millibars)</th>\n",
              "    </tr>\n",
              "  </thead>\n",
              "  <tbody>\n",
              "    <tr>\n",
              "      <th>0</th>\n",
              "      <td>Partly Cloudy</td>\n",
              "      <td>rain</td>\n",
              "      <td>9.472222</td>\n",
              "      <td>0.89</td>\n",
              "      <td>14.1197</td>\n",
              "      <td>251.0</td>\n",
              "      <td>15.8263</td>\n",
              "      <td>1015.13</td>\n",
              "    </tr>\n",
              "    <tr>\n",
              "      <th>1</th>\n",
              "      <td>Partly Cloudy</td>\n",
              "      <td>rain</td>\n",
              "      <td>9.355556</td>\n",
              "      <td>0.86</td>\n",
              "      <td>14.2646</td>\n",
              "      <td>259.0</td>\n",
              "      <td>15.8263</td>\n",
              "      <td>1015.63</td>\n",
              "    </tr>\n",
              "    <tr>\n",
              "      <th>2</th>\n",
              "      <td>Mostly Cloudy</td>\n",
              "      <td>rain</td>\n",
              "      <td>9.377778</td>\n",
              "      <td>0.89</td>\n",
              "      <td>3.9284</td>\n",
              "      <td>204.0</td>\n",
              "      <td>14.9569</td>\n",
              "      <td>1015.94</td>\n",
              "    </tr>\n",
              "    <tr>\n",
              "      <th>3</th>\n",
              "      <td>Partly Cloudy</td>\n",
              "      <td>rain</td>\n",
              "      <td>8.288889</td>\n",
              "      <td>0.83</td>\n",
              "      <td>14.1036</td>\n",
              "      <td>269.0</td>\n",
              "      <td>15.8263</td>\n",
              "      <td>1016.41</td>\n",
              "    </tr>\n",
              "    <tr>\n",
              "      <th>4</th>\n",
              "      <td>Mostly Cloudy</td>\n",
              "      <td>rain</td>\n",
              "      <td>8.755556</td>\n",
              "      <td>0.83</td>\n",
              "      <td>11.0446</td>\n",
              "      <td>259.0</td>\n",
              "      <td>15.8263</td>\n",
              "      <td>1016.51</td>\n",
              "    </tr>\n",
              "    <tr>\n",
              "      <th>5</th>\n",
              "      <td>Partly Cloudy</td>\n",
              "      <td>rain</td>\n",
              "      <td>9.222222</td>\n",
              "      <td>0.85</td>\n",
              "      <td>13.9587</td>\n",
              "      <td>258.0</td>\n",
              "      <td>14.9569</td>\n",
              "      <td>1016.66</td>\n",
              "    </tr>\n",
              "    <tr>\n",
              "      <th>6</th>\n",
              "      <td>Partly Cloudy</td>\n",
              "      <td>rain</td>\n",
              "      <td>7.733333</td>\n",
              "      <td>0.95</td>\n",
              "      <td>12.3648</td>\n",
              "      <td>259.0</td>\n",
              "      <td>9.9820</td>\n",
              "      <td>1016.72</td>\n",
              "    </tr>\n",
              "    <tr>\n",
              "      <th>7</th>\n",
              "      <td>Partly Cloudy</td>\n",
              "      <td>rain</td>\n",
              "      <td>8.772222</td>\n",
              "      <td>0.89</td>\n",
              "      <td>14.1519</td>\n",
              "      <td>260.0</td>\n",
              "      <td>9.9820</td>\n",
              "      <td>1016.84</td>\n",
              "    </tr>\n",
              "    <tr>\n",
              "      <th>8</th>\n",
              "      <td>Partly Cloudy</td>\n",
              "      <td>rain</td>\n",
              "      <td>10.822222</td>\n",
              "      <td>0.82</td>\n",
              "      <td>11.3183</td>\n",
              "      <td>259.0</td>\n",
              "      <td>9.9820</td>\n",
              "      <td>1017.37</td>\n",
              "    </tr>\n",
              "    <tr>\n",
              "      <th>9</th>\n",
              "      <td>Partly Cloudy</td>\n",
              "      <td>rain</td>\n",
              "      <td>13.772222</td>\n",
              "      <td>0.72</td>\n",
              "      <td>12.5258</td>\n",
              "      <td>279.0</td>\n",
              "      <td>9.9820</td>\n",
              "      <td>1017.22</td>\n",
              "    </tr>\n",
              "  </tbody>\n",
              "</table>\n",
              "</div>"
            ],
            "text/plain": [
              "         Summary Precip Type  ...  Visibility (km)  Pressure (millibars)\n",
              "0  Partly Cloudy        rain  ...          15.8263               1015.13\n",
              "1  Partly Cloudy        rain  ...          15.8263               1015.63\n",
              "2  Mostly Cloudy        rain  ...          14.9569               1015.94\n",
              "3  Partly Cloudy        rain  ...          15.8263               1016.41\n",
              "4  Mostly Cloudy        rain  ...          15.8263               1016.51\n",
              "5  Partly Cloudy        rain  ...          14.9569               1016.66\n",
              "6  Partly Cloudy        rain  ...           9.9820               1016.72\n",
              "7  Partly Cloudy        rain  ...           9.9820               1016.84\n",
              "8  Partly Cloudy        rain  ...           9.9820               1017.37\n",
              "9  Partly Cloudy        rain  ...           9.9820               1017.22\n",
              "\n",
              "[10 rows x 8 columns]"
            ]
          },
          "metadata": {
            "tags": []
          },
          "execution_count": 344
        }
      ]
    },
    {
      "cell_type": "code",
      "metadata": {
        "colab": {
          "base_uri": "https://localhost:8080/",
          "height": 359
        },
        "id": "du_qGPMnGZ72",
        "outputId": "fa5ebe21-bfaa-4abc-9399-d331896628a0"
      },
      "source": [
        "# Put the target (Tempreture) in another DataFrame\n",
        "target = pd.DataFrame(df_weather, columns=[\"Apparent Temperature (C)\"])\n",
        "target.tail(10)"
      ],
      "execution_count": 345,
      "outputs": [
        {
          "output_type": "execute_result",
          "data": {
            "text/html": [
              "<div>\n",
              "<style scoped>\n",
              "    .dataframe tbody tr th:only-of-type {\n",
              "        vertical-align: middle;\n",
              "    }\n",
              "\n",
              "    .dataframe tbody tr th {\n",
              "        vertical-align: top;\n",
              "    }\n",
              "\n",
              "    .dataframe thead th {\n",
              "        text-align: right;\n",
              "    }\n",
              "</style>\n",
              "<table border=\"1\" class=\"dataframe\">\n",
              "  <thead>\n",
              "    <tr style=\"text-align: right;\">\n",
              "      <th></th>\n",
              "      <th>Apparent Temperature (C)</th>\n",
              "    </tr>\n",
              "  </thead>\n",
              "  <tbody>\n",
              "    <tr>\n",
              "      <th>95131</th>\n",
              "      <td>29.450000</td>\n",
              "    </tr>\n",
              "    <tr>\n",
              "      <th>95132</th>\n",
              "      <td>29.616667</td>\n",
              "    </tr>\n",
              "    <tr>\n",
              "      <th>95133</th>\n",
              "      <td>29.611111</td>\n",
              "    </tr>\n",
              "    <tr>\n",
              "      <th>95134</th>\n",
              "      <td>29.311111</td>\n",
              "    </tr>\n",
              "    <tr>\n",
              "      <th>95135</th>\n",
              "      <td>27.850000</td>\n",
              "    </tr>\n",
              "    <tr>\n",
              "      <th>95136</th>\n",
              "      <td>26.016667</td>\n",
              "    </tr>\n",
              "    <tr>\n",
              "      <th>95137</th>\n",
              "      <td>24.583333</td>\n",
              "    </tr>\n",
              "    <tr>\n",
              "      <th>95138</th>\n",
              "      <td>22.038889</td>\n",
              "    </tr>\n",
              "    <tr>\n",
              "      <th>95139</th>\n",
              "      <td>21.522222</td>\n",
              "    </tr>\n",
              "    <tr>\n",
              "      <th>95140</th>\n",
              "      <td>20.438889</td>\n",
              "    </tr>\n",
              "  </tbody>\n",
              "</table>\n",
              "</div>"
            ],
            "text/plain": [
              "       Apparent Temperature (C)\n",
              "95131                 29.450000\n",
              "95132                 29.616667\n",
              "95133                 29.611111\n",
              "95134                 29.311111\n",
              "95135                 27.850000\n",
              "95136                 26.016667\n",
              "95137                 24.583333\n",
              "95138                 22.038889\n",
              "95139                 21.522222\n",
              "95140                 20.438889"
            ]
          },
          "metadata": {
            "tags": []
          },
          "execution_count": 345
        }
      ]
    },
    {
      "cell_type": "code",
      "metadata": {
        "colab": {
          "base_uri": "https://localhost:8080/",
          "height": 359
        },
        "id": "5H-m_1C0HzFW",
        "outputId": "3f29815e-cdd2-4e2e-fe6f-cc5ef681e2d5"
      },
      "source": [
        "X = df.copy() #dataset has been copied to  X\n",
        "y_true = target\n",
        "X.head(10)"
      ],
      "execution_count": 346,
      "outputs": [
        {
          "output_type": "execute_result",
          "data": {
            "text/html": [
              "<div>\n",
              "<style scoped>\n",
              "    .dataframe tbody tr th:only-of-type {\n",
              "        vertical-align: middle;\n",
              "    }\n",
              "\n",
              "    .dataframe tbody tr th {\n",
              "        vertical-align: top;\n",
              "    }\n",
              "\n",
              "    .dataframe thead th {\n",
              "        text-align: right;\n",
              "    }\n",
              "</style>\n",
              "<table border=\"1\" class=\"dataframe\">\n",
              "  <thead>\n",
              "    <tr style=\"text-align: right;\">\n",
              "      <th></th>\n",
              "      <th>Summary</th>\n",
              "      <th>Precip Type</th>\n",
              "      <th>Temperature (C)</th>\n",
              "      <th>Humidity</th>\n",
              "      <th>Wind Speed (km/h)</th>\n",
              "      <th>Wind Bearing (degrees)</th>\n",
              "      <th>Visibility (km)</th>\n",
              "      <th>Pressure (millibars)</th>\n",
              "    </tr>\n",
              "  </thead>\n",
              "  <tbody>\n",
              "    <tr>\n",
              "      <th>0</th>\n",
              "      <td>Partly Cloudy</td>\n",
              "      <td>rain</td>\n",
              "      <td>9.472222</td>\n",
              "      <td>0.89</td>\n",
              "      <td>14.1197</td>\n",
              "      <td>251.0</td>\n",
              "      <td>15.8263</td>\n",
              "      <td>1015.13</td>\n",
              "    </tr>\n",
              "    <tr>\n",
              "      <th>1</th>\n",
              "      <td>Partly Cloudy</td>\n",
              "      <td>rain</td>\n",
              "      <td>9.355556</td>\n",
              "      <td>0.86</td>\n",
              "      <td>14.2646</td>\n",
              "      <td>259.0</td>\n",
              "      <td>15.8263</td>\n",
              "      <td>1015.63</td>\n",
              "    </tr>\n",
              "    <tr>\n",
              "      <th>2</th>\n",
              "      <td>Mostly Cloudy</td>\n",
              "      <td>rain</td>\n",
              "      <td>9.377778</td>\n",
              "      <td>0.89</td>\n",
              "      <td>3.9284</td>\n",
              "      <td>204.0</td>\n",
              "      <td>14.9569</td>\n",
              "      <td>1015.94</td>\n",
              "    </tr>\n",
              "    <tr>\n",
              "      <th>3</th>\n",
              "      <td>Partly Cloudy</td>\n",
              "      <td>rain</td>\n",
              "      <td>8.288889</td>\n",
              "      <td>0.83</td>\n",
              "      <td>14.1036</td>\n",
              "      <td>269.0</td>\n",
              "      <td>15.8263</td>\n",
              "      <td>1016.41</td>\n",
              "    </tr>\n",
              "    <tr>\n",
              "      <th>4</th>\n",
              "      <td>Mostly Cloudy</td>\n",
              "      <td>rain</td>\n",
              "      <td>8.755556</td>\n",
              "      <td>0.83</td>\n",
              "      <td>11.0446</td>\n",
              "      <td>259.0</td>\n",
              "      <td>15.8263</td>\n",
              "      <td>1016.51</td>\n",
              "    </tr>\n",
              "    <tr>\n",
              "      <th>5</th>\n",
              "      <td>Partly Cloudy</td>\n",
              "      <td>rain</td>\n",
              "      <td>9.222222</td>\n",
              "      <td>0.85</td>\n",
              "      <td>13.9587</td>\n",
              "      <td>258.0</td>\n",
              "      <td>14.9569</td>\n",
              "      <td>1016.66</td>\n",
              "    </tr>\n",
              "    <tr>\n",
              "      <th>6</th>\n",
              "      <td>Partly Cloudy</td>\n",
              "      <td>rain</td>\n",
              "      <td>7.733333</td>\n",
              "      <td>0.95</td>\n",
              "      <td>12.3648</td>\n",
              "      <td>259.0</td>\n",
              "      <td>9.9820</td>\n",
              "      <td>1016.72</td>\n",
              "    </tr>\n",
              "    <tr>\n",
              "      <th>7</th>\n",
              "      <td>Partly Cloudy</td>\n",
              "      <td>rain</td>\n",
              "      <td>8.772222</td>\n",
              "      <td>0.89</td>\n",
              "      <td>14.1519</td>\n",
              "      <td>260.0</td>\n",
              "      <td>9.9820</td>\n",
              "      <td>1016.84</td>\n",
              "    </tr>\n",
              "    <tr>\n",
              "      <th>8</th>\n",
              "      <td>Partly Cloudy</td>\n",
              "      <td>rain</td>\n",
              "      <td>10.822222</td>\n",
              "      <td>0.82</td>\n",
              "      <td>11.3183</td>\n",
              "      <td>259.0</td>\n",
              "      <td>9.9820</td>\n",
              "      <td>1017.37</td>\n",
              "    </tr>\n",
              "    <tr>\n",
              "      <th>9</th>\n",
              "      <td>Partly Cloudy</td>\n",
              "      <td>rain</td>\n",
              "      <td>13.772222</td>\n",
              "      <td>0.72</td>\n",
              "      <td>12.5258</td>\n",
              "      <td>279.0</td>\n",
              "      <td>9.9820</td>\n",
              "      <td>1017.22</td>\n",
              "    </tr>\n",
              "  </tbody>\n",
              "</table>\n",
              "</div>"
            ],
            "text/plain": [
              "         Summary Precip Type  ...  Visibility (km)  Pressure (millibars)\n",
              "0  Partly Cloudy        rain  ...          15.8263               1015.13\n",
              "1  Partly Cloudy        rain  ...          15.8263               1015.63\n",
              "2  Mostly Cloudy        rain  ...          14.9569               1015.94\n",
              "3  Partly Cloudy        rain  ...          15.8263               1016.41\n",
              "4  Mostly Cloudy        rain  ...          15.8263               1016.51\n",
              "5  Partly Cloudy        rain  ...          14.9569               1016.66\n",
              "6  Partly Cloudy        rain  ...           9.9820               1016.72\n",
              "7  Partly Cloudy        rain  ...           9.9820               1016.84\n",
              "8  Partly Cloudy        rain  ...           9.9820               1017.37\n",
              "9  Partly Cloudy        rain  ...           9.9820               1017.22\n",
              "\n",
              "[10 rows x 8 columns]"
            ]
          },
          "metadata": {
            "tags": []
          },
          "execution_count": 346
        }
      ]
    },
    {
      "cell_type": "code",
      "metadata": {
        "colab": {
          "base_uri": "https://localhost:8080/"
        },
        "id": "OA1ZrYrd7tYt",
        "outputId": "7f07ccbd-3d19-4f0d-836a-6c06939cc3c3"
      },
      "source": [
        "X.isna().any()"
      ],
      "execution_count": 347,
      "outputs": [
        {
          "output_type": "execute_result",
          "data": {
            "text/plain": [
              "Summary                   False\n",
              "Precip Type               False\n",
              "Temperature (C)           False\n",
              "Humidity                  False\n",
              "Wind Speed (km/h)         False\n",
              "Wind Bearing (degrees)    False\n",
              "Visibility (km)           False\n",
              "Pressure (millibars)      False\n",
              "dtype: bool"
            ]
          },
          "metadata": {
            "tags": []
          },
          "execution_count": 347
        }
      ]
    },
    {
      "cell_type": "code",
      "metadata": {
        "colab": {
          "base_uri": "https://localhost:8080/",
          "height": 400
        },
        "id": "UxN02LzkH9Hc",
        "outputId": "8db77403-5195-48e9-c044-8796ddcc169b"
      },
      "source": [
        "X.hist()"
      ],
      "execution_count": 348,
      "outputs": [
        {
          "output_type": "execute_result",
          "data": {
            "text/plain": [
              "array([[<matplotlib.axes._subplots.AxesSubplot object at 0x7fc586611dd0>,\n",
              "        <matplotlib.axes._subplots.AxesSubplot object at 0x7fc5865cfed0>],\n",
              "       [<matplotlib.axes._subplots.AxesSubplot object at 0x7fc586584490>,\n",
              "        <matplotlib.axes._subplots.AxesSubplot object at 0x7fc586537a10>],\n",
              "       [<matplotlib.axes._subplots.AxesSubplot object at 0x7fc5864edf90>,\n",
              "        <matplotlib.axes._subplots.AxesSubplot object at 0x7fc5864ae550>]],\n",
              "      dtype=object)"
            ]
          },
          "metadata": {
            "tags": []
          },
          "execution_count": 348
        },
        {
          "output_type": "display_data",
          "data": {
            "image/png": "[encoded data removed]",
            "text/plain": [
              "<Figure size 432x288 with 6 Axes>"
            ]
          },
          "metadata": {
            "tags": [],
            "needs_background": "light"
          }
        }
      ]
    },
    {
      "cell_type": "code",
      "metadata": {
        "colab": {
          "base_uri": "https://localhost:8080/",
          "height": 295
        },
        "id": "aWNWgs1IrYFW",
        "outputId": "581274b0-490c-420e-d7f6-0dfcf24e1c46"
      },
      "source": [
        "stats.probplot(X[\"Temperature (C)\"], dist=\"norm\", plot=plt)\n",
        "plt.show()"
      ],
      "execution_count": 349,
      "outputs": [
        {
          "output_type": "display_data",
          "data": {
            "image/png": "[encoded data removed]",
            "text/plain": [
              "<Figure size 432x288 with 1 Axes>"
            ]
          },
          "metadata": {
            "tags": [],
            "needs_background": "light"
          }
        }
      ]
    },
    {
      "cell_type": "code",
      "metadata": {
        "colab": {
          "base_uri": "https://localhost:8080/",
          "height": 295
        },
        "id": "YvD_VJVXrtfs",
        "outputId": "2dbe6e62-2501-4e8f-bb45-7591d16c5985"
      },
      "source": [
        "stats.probplot(X[\"Humidity\"], dist=\"norm\", plot=plt)\n",
        "plt.show()"
      ],
      "execution_count": 350,
      "outputs": [
        {
          "output_type": "display_data",
          "data": {
            "image/png": "[encoded data removed]",
            "text/plain": [
              "<Figure size 432x288 with 1 Axes>"
            ]
          },
          "metadata": {
            "tags": [],
            "needs_background": "light"
          }
        }
      ]
    },
    {
      "cell_type": "code",
      "metadata": {
        "colab": {
          "base_uri": "https://localhost:8080/",
          "height": 295
        },
        "id": "QFgu81y0r6vk",
        "outputId": "b11c5d2d-59a2-4f90-830d-02334b8b6b10"
      },
      "source": [
        "stats.probplot(X[\"Wind Speed (km/h)\"], dist=\"norm\", plot=plt)\n",
        "plt.show()"
      ],
      "execution_count": 351,
      "outputs": [
        {
          "output_type": "display_data",
          "data": {
            "image/png": "[encoded data removed]",
            "text/plain": [
              "<Figure size 432x288 with 1 Axes>"
            ]
          },
          "metadata": {
            "tags": [],
            "needs_background": "light"
          }
        }
      ]
    },
    {
      "cell_type": "code",
      "metadata": {
        "colab": {
          "base_uri": "https://localhost:8080/",
          "height": 295
        },
        "id": "x_mgTG0Ts3Aa",
        "outputId": "77cfaa8a-020a-41b1-cc47-5918eb78e20f"
      },
      "source": [
        "stats.probplot(X[\"Wind Bearing (degrees)\"], dist=\"norm\", plot=plt)\n",
        "plt.show()"
      ],
      "execution_count": 352,
      "outputs": [
        {
          "output_type": "display_data",
          "data": {
            "image/png": "[encoded data removed]",
            "text/plain": [
              "<Figure size 432x288 with 1 Axes>"
            ]
          },
          "metadata": {
            "tags": [],
            "needs_background": "light"
          }
        }
      ]
    },
    {
      "cell_type": "code",
      "metadata": {
        "colab": {
          "base_uri": "https://localhost:8080/",
          "height": 295
        },
        "id": "SXAHs_CZtMRW",
        "outputId": "26898ab2-964a-4bd7-f427-c3ac1a3ab517"
      },
      "source": [
        "stats.probplot(X[\"Visibility (km)\"], dist=\"norm\", plot=plt)\n",
        "plt.show()"
      ],
      "execution_count": 353,
      "outputs": [
        {
          "output_type": "display_data",
          "data": {
            "image/png": "[encoded data removed]",
            "text/plain": [
              "<Figure size 432x288 with 1 Axes>"
            ]
          },
          "metadata": {
            "tags": [],
            "needs_background": "light"
          }
        }
      ]
    },
    {
      "cell_type": "code",
      "metadata": {
        "colab": {
          "base_uri": "https://localhost:8080/",
          "height": 295
        },
        "id": "EhlMFJ1MtnL_",
        "outputId": "2699127e-dd11-4665-9ffe-5e8ef9b4195c"
      },
      "source": [
        "stats.probplot(X[\"Pressure (millibars)\"], dist=\"norm\", plot=plt)\n",
        "plt.show()"
      ],
      "execution_count": 354,
      "outputs": [
        {
          "output_type": "display_data",
          "data": {
            "image/png": "[encoded data removed]",
            "text/plain": [
              "<Figure size 432x288 with 1 Axes>"
            ]
          },
          "metadata": {
            "tags": [],
            "needs_background": "light"
          }
        }
      ]
    },
    {
      "cell_type": "code",
      "metadata": {
        "colab": {
          "base_uri": "https://localhost:8080/",
          "height": 315
        },
        "id": "gModNImALXBu",
        "outputId": "e866cfe9-7763-4efd-9e90-1aea71745f34"
      },
      "source": [
        "y_true.hist()"
      ],
      "execution_count": 355,
      "outputs": [
        {
          "output_type": "execute_result",
          "data": {
            "text/plain": [
              "array([[<matplotlib.axes._subplots.AxesSubplot object at 0x7fc5860a9710>]],\n",
              "      dtype=object)"
            ]
          },
          "metadata": {
            "tags": []
          },
          "execution_count": 355
        },
        {
          "output_type": "display_data",
          "data": {
            "image/png": "[encoded data removed]",
            "text/plain": [
              "<Figure size 432x288 with 1 Axes>"
            ]
          },
          "metadata": {
            "tags": [],
            "needs_background": "light"
          }
        }
      ]
    },
    {
      "cell_type": "code",
      "metadata": {
        "colab": {
          "base_uri": "https://localhost:8080/",
          "height": 419
        },
        "id": "A47vJ37gjVNb",
        "outputId": "7f09bdce-cd46-49f2-cf26-ab90e1554967"
      },
      "source": [
        "y_true"
      ],
      "execution_count": 356,
      "outputs": [
        {
          "output_type": "execute_result",
          "data": {
            "text/html": [
              "<div>\n",
              "<style scoped>\n",
              "    .dataframe tbody tr th:only-of-type {\n",
              "        vertical-align: middle;\n",
              "    }\n",
              "\n",
              "    .dataframe tbody tr th {\n",
              "        vertical-align: top;\n",
              "    }\n",
              "\n",
              "    .dataframe thead th {\n",
              "        text-align: right;\n",
              "    }\n",
              "</style>\n",
              "<table border=\"1\" class=\"dataframe\">\n",
              "  <thead>\n",
              "    <tr style=\"text-align: right;\">\n",
              "      <th></th>\n",
              "      <th>Apparent Temperature (C)</th>\n",
              "    </tr>\n",
              "  </thead>\n",
              "  <tbody>\n",
              "    <tr>\n",
              "      <th>0</th>\n",
              "      <td>7.388889</td>\n",
              "    </tr>\n",
              "    <tr>\n",
              "      <th>1</th>\n",
              "      <td>7.227778</td>\n",
              "    </tr>\n",
              "    <tr>\n",
              "      <th>2</th>\n",
              "      <td>9.377778</td>\n",
              "    </tr>\n",
              "    <tr>\n",
              "      <th>3</th>\n",
              "      <td>5.944444</td>\n",
              "    </tr>\n",
              "    <tr>\n",
              "      <th>4</th>\n",
              "      <td>6.977778</td>\n",
              "    </tr>\n",
              "    <tr>\n",
              "      <th>...</th>\n",
              "      <td>...</td>\n",
              "    </tr>\n",
              "    <tr>\n",
              "      <th>95136</th>\n",
              "      <td>26.016667</td>\n",
              "    </tr>\n",
              "    <tr>\n",
              "      <th>95137</th>\n",
              "      <td>24.583333</td>\n",
              "    </tr>\n",
              "    <tr>\n",
              "      <th>95138</th>\n",
              "      <td>22.038889</td>\n",
              "    </tr>\n",
              "    <tr>\n",
              "      <th>95139</th>\n",
              "      <td>21.522222</td>\n",
              "    </tr>\n",
              "    <tr>\n",
              "      <th>95140</th>\n",
              "      <td>20.438889</td>\n",
              "    </tr>\n",
              "  </tbody>\n",
              "</table>\n",
              "<p>95141 rows × 1 columns</p>\n",
              "</div>"
            ],
            "text/plain": [
              "       Apparent Temperature (C)\n",
              "0                      7.388889\n",
              "1                      7.227778\n",
              "2                      9.377778\n",
              "3                      5.944444\n",
              "4                      6.977778\n",
              "...                         ...\n",
              "95136                 26.016667\n",
              "95137                 24.583333\n",
              "95138                 22.038889\n",
              "95139                 21.522222\n",
              "95140                 20.438889\n",
              "\n",
              "[95141 rows x 1 columns]"
            ]
          },
          "metadata": {
            "tags": []
          },
          "execution_count": 356
        }
      ]
    },
    {
      "cell_type": "code",
      "metadata": {
        "id": "lxPJUX4kIDkC"
      },
      "source": [
        "X1=X"
      ],
      "execution_count": 395,
      "outputs": []
    },
    {
      "cell_type": "markdown",
      "metadata": {
        "id": "bV3YFIyMxX5G"
      },
      "source": [
        "Data Transformation"
      ]
    },
    {
      "cell_type": "code",
      "metadata": {
        "colab": {
          "base_uri": "https://localhost:8080/",
          "height": 413
        },
        "id": "sAO5nqHeIJJ5",
        "outputId": "6b114c6e-ce93-44cf-cdbc-81ed9df038f8"
      },
      "source": [
        "from sklearn.preprocessing import FunctionTransformer\n",
        "\n",
        "data=X1\n",
        "column=['Humidity']\n",
        "exponential_transformer = FunctionTransformer(lambda x: x ** 3, validate=True)\n",
        "\n",
        "data_new = exponential_transformer.transform(data[column])\n",
        "X1['Humidity'] = data_new\n",
        "X1.hist()   "
      ],
      "execution_count": 396,
      "outputs": [
        {
          "output_type": "execute_result",
          "data": {
            "text/plain": [
              "array([[<matplotlib.axes._subplots.AxesSubplot object at 0x7fc58503d290>,\n",
              "        <matplotlib.axes._subplots.AxesSubplot object at 0x7fc584ff6bd0>],\n",
              "       [<matplotlib.axes._subplots.AxesSubplot object at 0x7fc584fa2b90>,\n",
              "        <matplotlib.axes._subplots.AxesSubplot object at 0x7fc584f6c610>],\n",
              "       [<matplotlib.axes._subplots.AxesSubplot object at 0x7fc584f22b90>,\n",
              "        <matplotlib.axes._subplots.AxesSubplot object at 0x7fc584ee4150>]],\n",
              "      dtype=object)"
            ]
          },
          "metadata": {
            "tags": []
          },
          "execution_count": 396
        },
        {
          "output_type": "display_data",
          "data": {
            "image/png": "[encoded data removed]",
            "text/plain": [
              "<Figure size 432x288 with 6 Axes>"
            ]
          },
          "metadata": {
            "tags": [],
            "needs_background": "light"
          }
        }
      ]
    },
    {
      "cell_type": "code",
      "metadata": {
        "colab": {
          "base_uri": "https://localhost:8080/",
          "height": 413
        },
        "id": "IvoQMgK0wbuU",
        "outputId": "8ab61ef0-4727-415a-9d4b-3161398a2742"
      },
      "source": [
        "\n",
        "data=X1\n",
        "column=['Visibility (km)']\n",
        "exponential_transformer = FunctionTransformer(lambda x: x ** 3, validate=True)\n",
        "\n",
        "data_new = exponential_transformer.transform(data[column])\n",
        "X1['Visibility (km)'] = data_new\n",
        "X.hist()"
      ],
      "execution_count": 397,
      "outputs": [
        {
          "output_type": "execute_result",
          "data": {
            "text/plain": [
              "array([[<matplotlib.axes._subplots.AxesSubplot object at 0x7fc5850890d0>,\n",
              "        <matplotlib.axes._subplots.AxesSubplot object at 0x7fc584d91490>],\n",
              "       [<matplotlib.axes._subplots.AxesSubplot object at 0x7fc584d3b910>,\n",
              "        <matplotlib.axes._subplots.AxesSubplot object at 0x7fc584cf2e90>],\n",
              "       [<matplotlib.axes._subplots.AxesSubplot object at 0x7fc584cb1450>,\n",
              "        <matplotlib.axes._subplots.AxesSubplot object at 0x7fc584c679d0>]],\n",
              "      dtype=object)"
            ]
          },
          "metadata": {
            "tags": []
          },
          "execution_count": 397
        },
        {
          "output_type": "display_data",
          "data": {
            "image/png": "[encoded data removed]",
            "text/plain": [
              "<Figure size 432x288 with 6 Axes>"
            ]
          },
          "metadata": {
            "tags": [],
            "needs_background": "light"
          }
        }
      ]
    },
    {
      "cell_type": "code",
      "metadata": {
        "colab": {
          "base_uri": "https://localhost:8080/",
          "height": 359
        },
        "id": "-7qDPXNKIOHb",
        "outputId": "7b2d0461-8ae2-49dc-ad83-d689ce15a64d"
      },
      "source": [
        "from sklearn.preprocessing import FunctionTransformer\n",
        "# loading data\n",
        "data = X1\n",
        "\n",
        "# create columns variables to hold the columns that need transformation\n",
        "columns = ['Wind Speed (km/h)']\n",
        "\n",
        "# create the function transformer object with logarithm transformation\n",
        "logarithm_transformer = FunctionTransformer(np.sqrt, validate=True)\n",
        "\n",
        "# apply the transformation to your data\n",
        "data_new = logarithm_transformer.transform(data[columns])\n",
        "X1['Wind Speed (km/h)'] = data_new\n",
        "X1.head(10)"
      ],
      "execution_count": 398,
      "outputs": [
        {
          "output_type": "execute_result",
          "data": {
            "text/html": [
              "<div>\n",
              "<style scoped>\n",
              "    .dataframe tbody tr th:only-of-type {\n",
              "        vertical-align: middle;\n",
              "    }\n",
              "\n",
              "    .dataframe tbody tr th {\n",
              "        vertical-align: top;\n",
              "    }\n",
              "\n",
              "    .dataframe thead th {\n",
              "        text-align: right;\n",
              "    }\n",
              "</style>\n",
              "<table border=\"1\" class=\"dataframe\">\n",
              "  <thead>\n",
              "    <tr style=\"text-align: right;\">\n",
              "      <th></th>\n",
              "      <th>Summary</th>\n",
              "      <th>Precip Type</th>\n",
              "      <th>Temperature (C)</th>\n",
              "      <th>Humidity</th>\n",
              "      <th>Wind Speed (km/h)</th>\n",
              "      <th>Wind Bearing (degrees)</th>\n",
              "      <th>Visibility (km)</th>\n",
              "      <th>Pressure (millibars)</th>\n",
              "    </tr>\n",
              "  </thead>\n",
              "  <tbody>\n",
              "    <tr>\n",
              "      <th>0</th>\n",
              "      <td>Partly Cloudy</td>\n",
              "      <td>rain</td>\n",
              "      <td>9.472222</td>\n",
              "      <td>0.043006</td>\n",
              "      <td>1.392285</td>\n",
              "      <td>251.0</td>\n",
              "      <td>2.416816e+32</td>\n",
              "      <td>1015.13</td>\n",
              "    </tr>\n",
              "    <tr>\n",
              "      <th>1</th>\n",
              "      <td>Partly Cloudy</td>\n",
              "      <td>rain</td>\n",
              "      <td>9.355556</td>\n",
              "      <td>0.017040</td>\n",
              "      <td>1.394063</td>\n",
              "      <td>259.0</td>\n",
              "      <td>2.416816e+32</td>\n",
              "      <td>1015.63</td>\n",
              "    </tr>\n",
              "    <tr>\n",
              "      <th>2</th>\n",
              "      <td>Mostly Cloudy</td>\n",
              "      <td>rain</td>\n",
              "      <td>9.377778</td>\n",
              "      <td>0.043006</td>\n",
              "      <td>1.186525</td>\n",
              "      <td>204.0</td>\n",
              "      <td>5.256818e+31</td>\n",
              "      <td>1015.94</td>\n",
              "    </tr>\n",
              "    <tr>\n",
              "      <th>3</th>\n",
              "      <td>Partly Cloudy</td>\n",
              "      <td>rain</td>\n",
              "      <td>8.288889</td>\n",
              "      <td>0.006533</td>\n",
              "      <td>1.392087</td>\n",
              "      <td>269.0</td>\n",
              "      <td>2.416816e+32</td>\n",
              "      <td>1016.41</td>\n",
              "    </tr>\n",
              "    <tr>\n",
              "      <th>4</th>\n",
              "      <td>Mostly Cloudy</td>\n",
              "      <td>rain</td>\n",
              "      <td>8.755556</td>\n",
              "      <td>0.006533</td>\n",
              "      <td>1.350186</td>\n",
              "      <td>259.0</td>\n",
              "      <td>2.416816e+32</td>\n",
              "      <td>1016.51</td>\n",
              "    </tr>\n",
              "    <tr>\n",
              "      <th>5</th>\n",
              "      <td>Partly Cloudy</td>\n",
              "      <td>rain</td>\n",
              "      <td>9.222222</td>\n",
              "      <td>0.012425</td>\n",
              "      <td>1.390291</td>\n",
              "      <td>258.0</td>\n",
              "      <td>5.256818e+31</td>\n",
              "      <td>1016.66</td>\n",
              "    </tr>\n",
              "    <tr>\n",
              "      <th>6</th>\n",
              "      <td>Partly Cloudy</td>\n",
              "      <td>rain</td>\n",
              "      <td>7.733333</td>\n",
              "      <td>0.250344</td>\n",
              "      <td>1.369378</td>\n",
              "      <td>259.0</td>\n",
              "      <td>9.525204e+26</td>\n",
              "      <td>1016.72</td>\n",
              "    </tr>\n",
              "    <tr>\n",
              "      <th>7</th>\n",
              "      <td>Partly Cloudy</td>\n",
              "      <td>rain</td>\n",
              "      <td>8.772222</td>\n",
              "      <td>0.043006</td>\n",
              "      <td>1.392682</td>\n",
              "      <td>260.0</td>\n",
              "      <td>9.525204e+26</td>\n",
              "      <td>1016.84</td>\n",
              "    </tr>\n",
              "    <tr>\n",
              "      <th>8</th>\n",
              "      <td>Partly Cloudy</td>\n",
              "      <td>rain</td>\n",
              "      <td>10.822222</td>\n",
              "      <td>0.004709</td>\n",
              "      <td>1.354324</td>\n",
              "      <td>259.0</td>\n",
              "      <td>9.525204e+26</td>\n",
              "      <td>1017.37</td>\n",
              "    </tr>\n",
              "    <tr>\n",
              "      <th>9</th>\n",
              "      <td>Partly Cloudy</td>\n",
              "      <td>rain</td>\n",
              "      <td>13.772222</td>\n",
              "      <td>0.000141</td>\n",
              "      <td>1.371594</td>\n",
              "      <td>279.0</td>\n",
              "      <td>9.525204e+26</td>\n",
              "      <td>1017.22</td>\n",
              "    </tr>\n",
              "  </tbody>\n",
              "</table>\n",
              "</div>"
            ],
            "text/plain": [
              "         Summary Precip Type  ...  Visibility (km)  Pressure (millibars)\n",
              "0  Partly Cloudy        rain  ...     2.416816e+32               1015.13\n",
              "1  Partly Cloudy        rain  ...     2.416816e+32               1015.63\n",
              "2  Mostly Cloudy        rain  ...     5.256818e+31               1015.94\n",
              "3  Partly Cloudy        rain  ...     2.416816e+32               1016.41\n",
              "4  Mostly Cloudy        rain  ...     2.416816e+32               1016.51\n",
              "5  Partly Cloudy        rain  ...     5.256818e+31               1016.66\n",
              "6  Partly Cloudy        rain  ...     9.525204e+26               1016.72\n",
              "7  Partly Cloudy        rain  ...     9.525204e+26               1016.84\n",
              "8  Partly Cloudy        rain  ...     9.525204e+26               1017.37\n",
              "9  Partly Cloudy        rain  ...     9.525204e+26               1017.22\n",
              "\n",
              "[10 rows x 8 columns]"
            ]
          },
          "metadata": {
            "tags": []
          },
          "execution_count": 398
        }
      ]
    },
    {
      "cell_type": "code",
      "metadata": {
        "colab": {
          "base_uri": "https://localhost:8080/",
          "height": 413
        },
        "id": "wcF2JcZoIQ5z",
        "outputId": "531a3a14-33f4-4d29-b1fd-7e2291ca70f6"
      },
      "source": [
        "X1.hist()"
      ],
      "execution_count": 399,
      "outputs": [
        {
          "output_type": "execute_result",
          "data": {
            "text/plain": [
              "array([[<matplotlib.axes._subplots.AxesSubplot object at 0x7fc584b263d0>,\n",
              "        <matplotlib.axes._subplots.AxesSubplot object at 0x7fc584c29910>],\n",
              "       [<matplotlib.axes._subplots.AxesSubplot object at 0x7fc584acb450>,\n",
              "        <matplotlib.axes._subplots.AxesSubplot object at 0x7fc584a7f9d0>],\n",
              "       [<matplotlib.axes._subplots.AxesSubplot object at 0x7fc584a32f50>,\n",
              "        <matplotlib.axes._subplots.AxesSubplot object at 0x7fc5849f4510>]],\n",
              "      dtype=object)"
            ]
          },
          "metadata": {
            "tags": []
          },
          "execution_count": 399
        },
        {
          "output_type": "display_data",
          "data": {
            "image/png": "[encoded data removed]",
            "text/plain": [
              "<Figure size 432x288 with 6 Axes>"
            ]
          },
          "metadata": {
            "tags": [],
            "needs_background": "light"
          }
        }
      ]
    },
    {
      "cell_type": "code",
      "metadata": {
        "colab": {
          "base_uri": "https://localhost:8080/"
        },
        "id": "JfjwCQ6XIT1T",
        "outputId": "41096d42-26f1-4907-a8e2-26365f73c801"
      },
      "source": [
        "X1.dtypes"
      ],
      "execution_count": 400,
      "outputs": [
        {
          "output_type": "execute_result",
          "data": {
            "text/plain": [
              "Summary                    object\n",
              "Precip Type                object\n",
              "Temperature (C)           float64\n",
              "Humidity                  float64\n",
              "Wind Speed (km/h)         float64\n",
              "Wind Bearing (degrees)    float64\n",
              "Visibility (km)           float64\n",
              "Pressure (millibars)      float64\n",
              "dtype: object"
            ]
          },
          "metadata": {
            "tags": []
          },
          "execution_count": 400
        }
      ]
    },
    {
      "cell_type": "markdown",
      "metadata": {
        "id": "QkgmRDR2xbL2"
      },
      "source": [
        "Hot encoding"
      ]
    },
    {
      "cell_type": "code",
      "metadata": {
        "id": "axTr6SHvd8hl"
      },
      "source": [
        "encode = OneHotEncoder(handle_unknown='ignore')\n",
        "\n",
        "encode.fit(X1[['Precip Type']])\n",
        "column = encode.get_feature_names()\n",
        "encode_df = pd.DataFrame(encode.transform(X1[['Precip Type']]).toarray(),columns=column)\n",
        "\n",
        "X1 = X1.join(encode_df)\n"
      ],
      "execution_count": 401,
      "outputs": []
    },
    {
      "cell_type": "code",
      "metadata": {
        "id": "VfQL3VvKeMhE"
      },
      "source": [
        "encode = OneHotEncoder(handle_unknown='ignore')\n",
        "\n",
        "encode.fit(X1[['Summary']])\n",
        "column = encode.get_feature_names()\n",
        "encode_df = pd.DataFrame(encode.transform(X1[['Summary']]).toarray(),columns=column)\n",
        "\n",
        "X1 = X1.join(encode_df)\n",
        "\n",
        "#X1= X1.join(encode_df,how='left',lsuffix = '_left', rsuffix = '_right')\n"
      ],
      "execution_count": 402,
      "outputs": []
    },
    {
      "cell_type": "code",
      "metadata": {
        "id": "HMOiJ6X4ek9j"
      },
      "source": [
        "X1=X1.drop(columns=['Summary','Precip Type'],axis=1)"
      ],
      "execution_count": 403,
      "outputs": []
    },
    {
      "cell_type": "code",
      "metadata": {
        "colab": {
          "base_uri": "https://localhost:8080/"
        },
        "id": "MlvcPLCbIZPT",
        "outputId": "48fc8eea-0c8c-4ee9-bfdd-4f96a54758bf"
      },
      "source": [
        "X1.dtypes"
      ],
      "execution_count": 404,
      "outputs": [
        {
          "output_type": "execute_result",
          "data": {
            "text/plain": [
              "Temperature (C)                           float64\n",
              "Humidity                                  float64\n",
              "Wind Speed (km/h)                         float64\n",
              "Wind Bearing (degrees)                    float64\n",
              "Visibility (km)                           float64\n",
              "Pressure (millibars)                      float64\n",
              "x0_na                                     float64\n",
              "x0_rain                                   float64\n",
              "x0_snow                                   float64\n",
              "x0_Breezy                                 float64\n",
              "x0_Breezy and Dry                         float64\n",
              "x0_Breezy and Foggy                       float64\n",
              "x0_Breezy and Mostly Cloudy               float64\n",
              "x0_Breezy and Overcast                    float64\n",
              "x0_Breezy and Partly Cloudy               float64\n",
              "x0_Clear                                  float64\n",
              "x0_Dangerously Windy and Partly Cloudy    float64\n",
              "x0_Drizzle                                float64\n",
              "x0_Dry                                    float64\n",
              "x0_Dry and Mostly Cloudy                  float64\n",
              "x0_Dry and Partly Cloudy                  float64\n",
              "x0_Foggy                                  float64\n",
              "x0_Humid and Mostly Cloudy                float64\n",
              "x0_Humid and Overcast                     float64\n",
              "x0_Humid and Partly Cloudy                float64\n",
              "x0_Light Rain                             float64\n",
              "x0_Mostly Cloudy                          float64\n",
              "x0_Overcast                               float64\n",
              "x0_Partly Cloudy                          float64\n",
              "x0_Rain                                   float64\n",
              "x0_Windy                                  float64\n",
              "x0_Windy and Dry                          float64\n",
              "x0_Windy and Foggy                        float64\n",
              "x0_Windy and Mostly Cloudy                float64\n",
              "x0_Windy and Overcast                     float64\n",
              "x0_Windy and Partly Cloudy                float64\n",
              "dtype: object"
            ]
          },
          "metadata": {
            "tags": []
          },
          "execution_count": 404
        }
      ]
    },
    {
      "cell_type": "code",
      "metadata": {
        "colab": {
          "base_uri": "https://localhost:8080/"
        },
        "id": "caeOe1-uSMDl",
        "outputId": "9f6ed9df-2f91-467d-828c-8f75da23a2a4"
      },
      "source": [
        "X1.columns"
      ],
      "execution_count": 405,
      "outputs": [
        {
          "output_type": "execute_result",
          "data": {
            "text/plain": [
              "Index(['Temperature (C)', 'Humidity', 'Wind Speed (km/h)',\n",
              "       'Wind Bearing (degrees)', 'Visibility (km)', 'Pressure (millibars)',\n",
              "       'x0_na', 'x0_rain', 'x0_snow', 'x0_Breezy', 'x0_Breezy and Dry',\n",
              "       'x0_Breezy and Foggy', 'x0_Breezy and Mostly Cloudy',\n",
              "       'x0_Breezy and Overcast', 'x0_Breezy and Partly Cloudy', 'x0_Clear',\n",
              "       'x0_Dangerously Windy and Partly Cloudy', 'x0_Drizzle', 'x0_Dry',\n",
              "       'x0_Dry and Mostly Cloudy', 'x0_Dry and Partly Cloudy', 'x0_Foggy',\n",
              "       'x0_Humid and Mostly Cloudy', 'x0_Humid and Overcast',\n",
              "       'x0_Humid and Partly Cloudy', 'x0_Light Rain', 'x0_Mostly Cloudy',\n",
              "       'x0_Overcast', 'x0_Partly Cloudy', 'x0_Rain', 'x0_Windy',\n",
              "       'x0_Windy and Dry', 'x0_Windy and Foggy', 'x0_Windy and Mostly Cloudy',\n",
              "       'x0_Windy and Overcast', 'x0_Windy and Partly Cloudy'],\n",
              "      dtype='object')"
            ]
          },
          "metadata": {
            "tags": []
          },
          "execution_count": 405
        }
      ]
    },
    {
      "cell_type": "markdown",
      "metadata": {
        "id": "-Pg95G9fxerW"
      },
      "source": [
        "Feature Scaling"
      ]
    },
    {
      "cell_type": "code",
      "metadata": {
        "id": "UlnCGThfIcrb"
      },
      "source": [
        "columnfeatures=['Temperature (C)','Humidity','Wind Speed (km/h)','Wind Bearing (degrees)','Visibility (km)','Pressure (millibars)']\n",
        "\n",
        "scaler = StandardScaler()\n",
        "scaler.fit(X1[columnfeatures])\n",
        "\n",
        "X1[columnfeatures]= scaler.transform(X1[columnfeatures])\n",
        "\n"
      ],
      "execution_count": 406,
      "outputs": []
    },
    {
      "cell_type": "code",
      "metadata": {
        "colab": {
          "base_uri": "https://localhost:8080/",
          "height": 275
        },
        "id": "egVtOJfGfmDT",
        "outputId": "7734e194-ee8b-47d9-f056-f42a1dc3b083"
      },
      "source": [
        "X1.head()\n"
      ],
      "execution_count": 407,
      "outputs": [
        {
          "output_type": "execute_result",
          "data": {
            "text/html": [
              "<div>\n",
              "<style scoped>\n",
              "    .dataframe tbody tr th:only-of-type {\n",
              "        vertical-align: middle;\n",
              "    }\n",
              "\n",
              "    .dataframe tbody tr th {\n",
              "        vertical-align: top;\n",
              "    }\n",
              "\n",
              "    .dataframe thead th {\n",
              "        text-align: right;\n",
              "    }\n",
              "</style>\n",
              "<table border=\"1\" class=\"dataframe\">\n",
              "  <thead>\n",
              "    <tr style=\"text-align: right;\">\n",
              "      <th></th>\n",
              "      <th>Temperature (C)</th>\n",
              "      <th>Humidity</th>\n",
              "      <th>Wind Speed (km/h)</th>\n",
              "      <th>Wind Bearing (degrees)</th>\n",
              "      <th>Visibility (km)</th>\n",
              "      <th>Pressure (millibars)</th>\n",
              "      <th>x0_na</th>\n",
              "      <th>x0_rain</th>\n",
              "      <th>x0_snow</th>\n",
              "      <th>x0_Breezy</th>\n",
              "      <th>x0_Breezy and Dry</th>\n",
              "      <th>x0_Breezy and Foggy</th>\n",
              "      <th>x0_Breezy and Mostly Cloudy</th>\n",
              "      <th>x0_Breezy and Overcast</th>\n",
              "      <th>x0_Breezy and Partly Cloudy</th>\n",
              "      <th>x0_Clear</th>\n",
              "      <th>x0_Dangerously Windy and Partly Cloudy</th>\n",
              "      <th>x0_Drizzle</th>\n",
              "      <th>x0_Dry</th>\n",
              "      <th>x0_Dry and Mostly Cloudy</th>\n",
              "      <th>x0_Dry and Partly Cloudy</th>\n",
              "      <th>x0_Foggy</th>\n",
              "      <th>x0_Humid and Mostly Cloudy</th>\n",
              "      <th>x0_Humid and Overcast</th>\n",
              "      <th>x0_Humid and Partly Cloudy</th>\n",
              "      <th>x0_Light Rain</th>\n",
              "      <th>x0_Mostly Cloudy</th>\n",
              "      <th>x0_Overcast</th>\n",
              "      <th>x0_Partly Cloudy</th>\n",
              "      <th>x0_Rain</th>\n",
              "      <th>x0_Windy</th>\n",
              "      <th>x0_Windy and Dry</th>\n",
              "      <th>x0_Windy and Foggy</th>\n",
              "      <th>x0_Windy and Mostly Cloudy</th>\n",
              "      <th>x0_Windy and Overcast</th>\n",
              "      <th>x0_Windy and Partly Cloudy</th>\n",
              "    </tr>\n",
              "  </thead>\n",
              "  <tbody>\n",
              "    <tr>\n",
              "      <th>0</th>\n",
              "      <td>-0.259193</td>\n",
              "      <td>-0.195574</td>\n",
              "      <td>0.488629</td>\n",
              "      <td>0.592039</td>\n",
              "      <td>1.603490</td>\n",
              "      <td>-0.216536</td>\n",
              "      <td>0.0</td>\n",
              "      <td>1.0</td>\n",
              "      <td>0.0</td>\n",
              "      <td>0.0</td>\n",
              "      <td>0.0</td>\n",
              "      <td>0.0</td>\n",
              "      <td>0.0</td>\n",
              "      <td>0.0</td>\n",
              "      <td>0.0</td>\n",
              "      <td>0.0</td>\n",
              "      <td>0.0</td>\n",
              "      <td>0.0</td>\n",
              "      <td>0.0</td>\n",
              "      <td>0.0</td>\n",
              "      <td>0.0</td>\n",
              "      <td>0.0</td>\n",
              "      <td>0.0</td>\n",
              "      <td>0.0</td>\n",
              "      <td>0.0</td>\n",
              "      <td>0.0</td>\n",
              "      <td>0.0</td>\n",
              "      <td>0.0</td>\n",
              "      <td>1.0</td>\n",
              "      <td>0.0</td>\n",
              "      <td>0.0</td>\n",
              "      <td>0.0</td>\n",
              "      <td>0.0</td>\n",
              "      <td>0.0</td>\n",
              "      <td>0.0</td>\n",
              "      <td>0.0</td>\n",
              "    </tr>\n",
              "    <tr>\n",
              "      <th>1</th>\n",
              "      <td>-0.271416</td>\n",
              "      <td>-0.322610</td>\n",
              "      <td>0.497995</td>\n",
              "      <td>0.666528</td>\n",
              "      <td>1.603490</td>\n",
              "      <td>-0.152262</td>\n",
              "      <td>0.0</td>\n",
              "      <td>1.0</td>\n",
              "      <td>0.0</td>\n",
              "      <td>0.0</td>\n",
              "      <td>0.0</td>\n",
              "      <td>0.0</td>\n",
              "      <td>0.0</td>\n",
              "      <td>0.0</td>\n",
              "      <td>0.0</td>\n",
              "      <td>0.0</td>\n",
              "      <td>0.0</td>\n",
              "      <td>0.0</td>\n",
              "      <td>0.0</td>\n",
              "      <td>0.0</td>\n",
              "      <td>0.0</td>\n",
              "      <td>0.0</td>\n",
              "      <td>0.0</td>\n",
              "      <td>0.0</td>\n",
              "      <td>0.0</td>\n",
              "      <td>0.0</td>\n",
              "      <td>0.0</td>\n",
              "      <td>0.0</td>\n",
              "      <td>1.0</td>\n",
              "      <td>0.0</td>\n",
              "      <td>0.0</td>\n",
              "      <td>0.0</td>\n",
              "      <td>0.0</td>\n",
              "      <td>0.0</td>\n",
              "      <td>0.0</td>\n",
              "      <td>0.0</td>\n",
              "    </tr>\n",
              "    <tr>\n",
              "      <th>2</th>\n",
              "      <td>-0.269088</td>\n",
              "      <td>-0.195574</td>\n",
              "      <td>-0.595322</td>\n",
              "      <td>0.154415</td>\n",
              "      <td>-0.033168</td>\n",
              "      <td>-0.112413</td>\n",
              "      <td>0.0</td>\n",
              "      <td>1.0</td>\n",
              "      <td>0.0</td>\n",
              "      <td>0.0</td>\n",
              "      <td>0.0</td>\n",
              "      <td>0.0</td>\n",
              "      <td>0.0</td>\n",
              "      <td>0.0</td>\n",
              "      <td>0.0</td>\n",
              "      <td>0.0</td>\n",
              "      <td>0.0</td>\n",
              "      <td>0.0</td>\n",
              "      <td>0.0</td>\n",
              "      <td>0.0</td>\n",
              "      <td>0.0</td>\n",
              "      <td>0.0</td>\n",
              "      <td>0.0</td>\n",
              "      <td>0.0</td>\n",
              "      <td>0.0</td>\n",
              "      <td>0.0</td>\n",
              "      <td>1.0</td>\n",
              "      <td>0.0</td>\n",
              "      <td>0.0</td>\n",
              "      <td>0.0</td>\n",
              "      <td>0.0</td>\n",
              "      <td>0.0</td>\n",
              "      <td>0.0</td>\n",
              "      <td>0.0</td>\n",
              "      <td>0.0</td>\n",
              "      <td>0.0</td>\n",
              "    </tr>\n",
              "    <tr>\n",
              "      <th>3</th>\n",
              "      <td>-0.383165</td>\n",
              "      <td>-0.374012</td>\n",
              "      <td>0.487583</td>\n",
              "      <td>0.759639</td>\n",
              "      <td>1.603490</td>\n",
              "      <td>-0.051995</td>\n",
              "      <td>0.0</td>\n",
              "      <td>1.0</td>\n",
              "      <td>0.0</td>\n",
              "      <td>0.0</td>\n",
              "      <td>0.0</td>\n",
              "      <td>0.0</td>\n",
              "      <td>0.0</td>\n",
              "      <td>0.0</td>\n",
              "      <td>0.0</td>\n",
              "      <td>0.0</td>\n",
              "      <td>0.0</td>\n",
              "      <td>0.0</td>\n",
              "      <td>0.0</td>\n",
              "      <td>0.0</td>\n",
              "      <td>0.0</td>\n",
              "      <td>0.0</td>\n",
              "      <td>0.0</td>\n",
              "      <td>0.0</td>\n",
              "      <td>0.0</td>\n",
              "      <td>0.0</td>\n",
              "      <td>0.0</td>\n",
              "      <td>0.0</td>\n",
              "      <td>1.0</td>\n",
              "      <td>0.0</td>\n",
              "      <td>0.0</td>\n",
              "      <td>0.0</td>\n",
              "      <td>0.0</td>\n",
              "      <td>0.0</td>\n",
              "      <td>0.0</td>\n",
              "      <td>0.0</td>\n",
              "    </tr>\n",
              "    <tr>\n",
              "      <th>4</th>\n",
              "      <td>-0.334275</td>\n",
              "      <td>-0.374012</td>\n",
              "      <td>0.266851</td>\n",
              "      <td>0.666528</td>\n",
              "      <td>1.603490</td>\n",
              "      <td>-0.039141</td>\n",
              "      <td>0.0</td>\n",
              "      <td>1.0</td>\n",
              "      <td>0.0</td>\n",
              "      <td>0.0</td>\n",
              "      <td>0.0</td>\n",
              "      <td>0.0</td>\n",
              "      <td>0.0</td>\n",
              "      <td>0.0</td>\n",
              "      <td>0.0</td>\n",
              "      <td>0.0</td>\n",
              "      <td>0.0</td>\n",
              "      <td>0.0</td>\n",
              "      <td>0.0</td>\n",
              "      <td>0.0</td>\n",
              "      <td>0.0</td>\n",
              "      <td>0.0</td>\n",
              "      <td>0.0</td>\n",
              "      <td>0.0</td>\n",
              "      <td>0.0</td>\n",
              "      <td>0.0</td>\n",
              "      <td>1.0</td>\n",
              "      <td>0.0</td>\n",
              "      <td>0.0</td>\n",
              "      <td>0.0</td>\n",
              "      <td>0.0</td>\n",
              "      <td>0.0</td>\n",
              "      <td>0.0</td>\n",
              "      <td>0.0</td>\n",
              "      <td>0.0</td>\n",
              "      <td>0.0</td>\n",
              "    </tr>\n",
              "  </tbody>\n",
              "</table>\n",
              "</div>"
            ],
            "text/plain": [
              "   Temperature (C)  Humidity  ...  x0_Windy and Overcast  x0_Windy and Partly Cloudy\n",
              "0        -0.259193 -0.195574  ...                    0.0                         0.0\n",
              "1        -0.271416 -0.322610  ...                    0.0                         0.0\n",
              "2        -0.269088 -0.195574  ...                    0.0                         0.0\n",
              "3        -0.383165 -0.374012  ...                    0.0                         0.0\n",
              "4        -0.334275 -0.374012  ...                    0.0                         0.0\n",
              "\n",
              "[5 rows x 36 columns]"
            ]
          },
          "metadata": {
            "tags": []
          },
          "execution_count": 407
        }
      ]
    },
    {
      "cell_type": "code",
      "metadata": {
        "colab": {
          "base_uri": "https://localhost:8080/",
          "height": 400
        },
        "id": "ZBLsQMlffby0",
        "outputId": "604d3621-7535-4b94-8cc2-53ab25375eac"
      },
      "source": [
        "columnfeatures=['Temperature (C)','Humidity','Wind Speed (km/h)','Wind Bearing (degrees)','Visibility (km)','Pressure (millibars)']\n",
        "\n",
        "X1[columnfeatures].hist()"
      ],
      "execution_count": 408,
      "outputs": [
        {
          "output_type": "execute_result",
          "data": {
            "text/plain": [
              "array([[<matplotlib.axes._subplots.AxesSubplot object at 0x7fc584880510>,\n",
              "        <matplotlib.axes._subplots.AxesSubplot object at 0x7fc5848310d0>],\n",
              "       [<matplotlib.axes._subplots.AxesSubplot object at 0x7fc5847df650>,\n",
              "        <matplotlib.axes._subplots.AxesSubplot object at 0x7fc584815bd0>],\n",
              "       [<matplotlib.axes._subplots.AxesSubplot object at 0x7fc5847d7190>,\n",
              "        <matplotlib.axes._subplots.AxesSubplot object at 0x7fc58478b710>]],\n",
              "      dtype=object)"
            ]
          },
          "metadata": {
            "tags": []
          },
          "execution_count": 408
        },
        {
          "output_type": "display_data",
          "data": {
            "image/png": "[encoded data removed]",
            "text/plain": [
              "<Figure size 432x288 with 6 Axes>"
            ]
          },
          "metadata": {
            "tags": [],
            "needs_background": "light"
          }
        }
      ]
    },
    {
      "cell_type": "markdown",
      "metadata": {
        "id": "vFVKj4dGxl6v"
      },
      "source": [
        "Feature Discretization"
      ]
    },
    {
      "cell_type": "code",
      "metadata": {
        "id": "VCVBJ1wgMbIM"
      },
      "source": [
        "from sklearn.preprocessing import KBinsDiscretizer\n",
        "data = pd.DataFrame(X1, columns=['Wind Bearing (degrees)'])\n",
        "\n",
        "# fit the scaler to the  data\n",
        "discretizer = KBinsDiscretizer(n_bins=8, encode='ordinal', strategy='kmeans') \n",
        "discretizer.fit(data)\n",
        "_discretize = discretizer.transform(data)\n",
        "X1['Wind Bearing (degrees)']=_discretize"
      ],
      "execution_count": 409,
      "outputs": []
    },
    {
      "cell_type": "code",
      "metadata": {
        "colab": {
          "base_uri": "https://localhost:8080/",
          "height": 282
        },
        "id": "ZVv3KGn6gYpy",
        "outputId": "8a9e076e-888c-486a-a780-0af9539a5779"
      },
      "source": [
        "X1['Wind Bearing (degrees)'].hist()"
      ],
      "execution_count": 410,
      "outputs": [
        {
          "output_type": "execute_result",
          "data": {
            "text/plain": [
              "<matplotlib.axes._subplots.AxesSubplot at 0x7fc58474d610>"
            ]
          },
          "metadata": {
            "tags": []
          },
          "execution_count": 410
        },
        {
          "output_type": "display_data",
          "data": {
            "image/png": "[encoded data removed]",
            "text/plain": [
              "<Figure size 432x288 with 1 Axes>"
            ]
          },
          "metadata": {
            "tags": [],
            "needs_background": "light"
          }
        }
      ]
    },
    {
      "cell_type": "code",
      "metadata": {
        "colab": {
          "base_uri": "https://localhost:8080/",
          "height": 275
        },
        "id": "TOPgfQFzS-zK",
        "outputId": "8ed12afe-7e67-4299-9178-a6ef5dce8e85"
      },
      "source": [
        "X1.tail()"
      ],
      "execution_count": 411,
      "outputs": [
        {
          "output_type": "execute_result",
          "data": {
            "text/html": [
              "<div>\n",
              "<style scoped>\n",
              "    .dataframe tbody tr th:only-of-type {\n",
              "        vertical-align: middle;\n",
              "    }\n",
              "\n",
              "    .dataframe tbody tr th {\n",
              "        vertical-align: top;\n",
              "    }\n",
              "\n",
              "    .dataframe thead th {\n",
              "        text-align: right;\n",
              "    }\n",
              "</style>\n",
              "<table border=\"1\" class=\"dataframe\">\n",
              "  <thead>\n",
              "    <tr style=\"text-align: right;\">\n",
              "      <th></th>\n",
              "      <th>Temperature (C)</th>\n",
              "      <th>Humidity</th>\n",
              "      <th>Wind Speed (km/h)</th>\n",
              "      <th>Wind Bearing (degrees)</th>\n",
              "      <th>Visibility (km)</th>\n",
              "      <th>Pressure (millibars)</th>\n",
              "      <th>x0_na</th>\n",
              "      <th>x0_rain</th>\n",
              "      <th>x0_snow</th>\n",
              "      <th>x0_Breezy</th>\n",
              "      <th>x0_Breezy and Dry</th>\n",
              "      <th>x0_Breezy and Foggy</th>\n",
              "      <th>x0_Breezy and Mostly Cloudy</th>\n",
              "      <th>x0_Breezy and Overcast</th>\n",
              "      <th>x0_Breezy and Partly Cloudy</th>\n",
              "      <th>x0_Clear</th>\n",
              "      <th>x0_Dangerously Windy and Partly Cloudy</th>\n",
              "      <th>x0_Drizzle</th>\n",
              "      <th>x0_Dry</th>\n",
              "      <th>x0_Dry and Mostly Cloudy</th>\n",
              "      <th>x0_Dry and Partly Cloudy</th>\n",
              "      <th>x0_Foggy</th>\n",
              "      <th>x0_Humid and Mostly Cloudy</th>\n",
              "      <th>x0_Humid and Overcast</th>\n",
              "      <th>x0_Humid and Partly Cloudy</th>\n",
              "      <th>x0_Light Rain</th>\n",
              "      <th>x0_Mostly Cloudy</th>\n",
              "      <th>x0_Overcast</th>\n",
              "      <th>x0_Partly Cloudy</th>\n",
              "      <th>x0_Rain</th>\n",
              "      <th>x0_Windy</th>\n",
              "      <th>x0_Windy and Dry</th>\n",
              "      <th>x0_Windy and Foggy</th>\n",
              "      <th>x0_Windy and Mostly Cloudy</th>\n",
              "      <th>x0_Windy and Overcast</th>\n",
              "      <th>x0_Windy and Partly Cloudy</th>\n",
              "    </tr>\n",
              "  </thead>\n",
              "  <tbody>\n",
              "    <tr>\n",
              "      <th>95136</th>\n",
              "      <td>1.474089</td>\n",
              "      <td>-0.405973</td>\n",
              "      <td>0.262956</td>\n",
              "      <td>0.0</td>\n",
              "      <td>2.834916</td>\n",
              "      <td>-0.315518</td>\n",
              "      <td>0.0</td>\n",
              "      <td>1.0</td>\n",
              "      <td>0.0</td>\n",
              "      <td>0.0</td>\n",
              "      <td>0.0</td>\n",
              "      <td>0.0</td>\n",
              "      <td>0.0</td>\n",
              "      <td>0.0</td>\n",
              "      <td>0.0</td>\n",
              "      <td>0.0</td>\n",
              "      <td>0.0</td>\n",
              "      <td>0.0</td>\n",
              "      <td>0.0</td>\n",
              "      <td>0.0</td>\n",
              "      <td>0.0</td>\n",
              "      <td>0.0</td>\n",
              "      <td>0.0</td>\n",
              "      <td>0.0</td>\n",
              "      <td>0.0</td>\n",
              "      <td>0.0</td>\n",
              "      <td>0.0</td>\n",
              "      <td>0.0</td>\n",
              "      <td>1.0</td>\n",
              "      <td>0.0</td>\n",
              "      <td>0.0</td>\n",
              "      <td>0.0</td>\n",
              "      <td>0.0</td>\n",
              "      <td>0.0</td>\n",
              "      <td>0.0</td>\n",
              "      <td>0.0</td>\n",
              "    </tr>\n",
              "    <tr>\n",
              "      <th>95137</th>\n",
              "      <td>1.323925</td>\n",
              "      <td>-0.405973</td>\n",
              "      <td>0.187341</td>\n",
              "      <td>0.0</td>\n",
              "      <td>0.817807</td>\n",
              "      <td>-0.212680</td>\n",
              "      <td>0.0</td>\n",
              "      <td>1.0</td>\n",
              "      <td>0.0</td>\n",
              "      <td>0.0</td>\n",
              "      <td>0.0</td>\n",
              "      <td>0.0</td>\n",
              "      <td>0.0</td>\n",
              "      <td>0.0</td>\n",
              "      <td>0.0</td>\n",
              "      <td>0.0</td>\n",
              "      <td>0.0</td>\n",
              "      <td>0.0</td>\n",
              "      <td>0.0</td>\n",
              "      <td>0.0</td>\n",
              "      <td>0.0</td>\n",
              "      <td>0.0</td>\n",
              "      <td>0.0</td>\n",
              "      <td>0.0</td>\n",
              "      <td>0.0</td>\n",
              "      <td>0.0</td>\n",
              "      <td>0.0</td>\n",
              "      <td>0.0</td>\n",
              "      <td>1.0</td>\n",
              "      <td>0.0</td>\n",
              "      <td>0.0</td>\n",
              "      <td>0.0</td>\n",
              "      <td>0.0</td>\n",
              "      <td>0.0</td>\n",
              "      <td>0.0</td>\n",
              "      <td>0.0</td>\n",
              "    </tr>\n",
              "    <tr>\n",
              "      <th>95138</th>\n",
              "      <td>1.057356</td>\n",
              "      <td>-0.405972</td>\n",
              "      <td>0.085585</td>\n",
              "      <td>0.0</td>\n",
              "      <td>2.834916</td>\n",
              "      <td>-0.148406</td>\n",
              "      <td>0.0</td>\n",
              "      <td>1.0</td>\n",
              "      <td>0.0</td>\n",
              "      <td>0.0</td>\n",
              "      <td>0.0</td>\n",
              "      <td>0.0</td>\n",
              "      <td>0.0</td>\n",
              "      <td>0.0</td>\n",
              "      <td>0.0</td>\n",
              "      <td>0.0</td>\n",
              "      <td>0.0</td>\n",
              "      <td>0.0</td>\n",
              "      <td>0.0</td>\n",
              "      <td>0.0</td>\n",
              "      <td>0.0</td>\n",
              "      <td>0.0</td>\n",
              "      <td>0.0</td>\n",
              "      <td>0.0</td>\n",
              "      <td>0.0</td>\n",
              "      <td>0.0</td>\n",
              "      <td>0.0</td>\n",
              "      <td>0.0</td>\n",
              "      <td>1.0</td>\n",
              "      <td>0.0</td>\n",
              "      <td>0.0</td>\n",
              "      <td>0.0</td>\n",
              "      <td>0.0</td>\n",
              "      <td>0.0</td>\n",
              "      <td>0.0</td>\n",
              "      <td>0.0</td>\n",
              "    </tr>\n",
              "    <tr>\n",
              "      <th>95139</th>\n",
              "      <td>1.003227</td>\n",
              "      <td>-0.405968</td>\n",
              "      <td>0.224505</td>\n",
              "      <td>0.0</td>\n",
              "      <td>2.834916</td>\n",
              "      <td>-0.111127</td>\n",
              "      <td>0.0</td>\n",
              "      <td>1.0</td>\n",
              "      <td>0.0</td>\n",
              "      <td>0.0</td>\n",
              "      <td>0.0</td>\n",
              "      <td>0.0</td>\n",
              "      <td>0.0</td>\n",
              "      <td>0.0</td>\n",
              "      <td>0.0</td>\n",
              "      <td>0.0</td>\n",
              "      <td>0.0</td>\n",
              "      <td>0.0</td>\n",
              "      <td>0.0</td>\n",
              "      <td>0.0</td>\n",
              "      <td>0.0</td>\n",
              "      <td>0.0</td>\n",
              "      <td>0.0</td>\n",
              "      <td>0.0</td>\n",
              "      <td>0.0</td>\n",
              "      <td>0.0</td>\n",
              "      <td>0.0</td>\n",
              "      <td>0.0</td>\n",
              "      <td>1.0</td>\n",
              "      <td>0.0</td>\n",
              "      <td>0.0</td>\n",
              "      <td>0.0</td>\n",
              "      <td>0.0</td>\n",
              "      <td>0.0</td>\n",
              "      <td>0.0</td>\n",
              "      <td>0.0</td>\n",
              "    </tr>\n",
              "    <tr>\n",
              "      <th>95140</th>\n",
              "      <td>0.889732</td>\n",
              "      <td>-0.405965</td>\n",
              "      <td>-0.272602</td>\n",
              "      <td>1.0</td>\n",
              "      <td>0.746737</td>\n",
              "      <td>-0.084132</td>\n",
              "      <td>0.0</td>\n",
              "      <td>1.0</td>\n",
              "      <td>0.0</td>\n",
              "      <td>0.0</td>\n",
              "      <td>0.0</td>\n",
              "      <td>0.0</td>\n",
              "      <td>0.0</td>\n",
              "      <td>0.0</td>\n",
              "      <td>0.0</td>\n",
              "      <td>0.0</td>\n",
              "      <td>0.0</td>\n",
              "      <td>0.0</td>\n",
              "      <td>0.0</td>\n",
              "      <td>0.0</td>\n",
              "      <td>0.0</td>\n",
              "      <td>0.0</td>\n",
              "      <td>0.0</td>\n",
              "      <td>0.0</td>\n",
              "      <td>0.0</td>\n",
              "      <td>0.0</td>\n",
              "      <td>0.0</td>\n",
              "      <td>0.0</td>\n",
              "      <td>1.0</td>\n",
              "      <td>0.0</td>\n",
              "      <td>0.0</td>\n",
              "      <td>0.0</td>\n",
              "      <td>0.0</td>\n",
              "      <td>0.0</td>\n",
              "      <td>0.0</td>\n",
              "      <td>0.0</td>\n",
              "    </tr>\n",
              "  </tbody>\n",
              "</table>\n",
              "</div>"
            ],
            "text/plain": [
              "       Temperature (C)  ...  x0_Windy and Partly Cloudy\n",
              "95136         1.474089  ...                         0.0\n",
              "95137         1.323925  ...                         0.0\n",
              "95138         1.057356  ...                         0.0\n",
              "95139         1.003227  ...                         0.0\n",
              "95140         0.889732  ...                         0.0\n",
              "\n",
              "[5 rows x 36 columns]"
            ]
          },
          "metadata": {
            "tags": []
          },
          "execution_count": 411
        }
      ]
    },
    {
      "cell_type": "markdown",
      "metadata": {
        "id": "LVjAObykxyVV"
      },
      "source": [
        "significance of the features"
      ]
    },
    {
      "cell_type": "code",
      "metadata": {
        "colab": {
          "base_uri": "https://localhost:8080/",
          "height": 576
        },
        "id": "lFy__GR0IjaG",
        "outputId": "7f59edef-290b-4dfb-b6d7-6e8628df065a"
      },
      "source": [
        "#test the signifncance of the features\n",
        "d_data = X1.iloc[:,:6].copy()\n",
        "d_data['Apparent Temperature (C)'] = y_true\n",
        "d_data.head(10)\n",
        "print(d_data.corr())\n",
        "sns.heatmap(d_data.corr(),annot=True) "
      ],
      "execution_count": 412,
      "outputs": [
        {
          "output_type": "stream",
          "text": [
            "                          Temperature (C)  ...  Apparent Temperature (C)\n",
            "Temperature (C)                  1.000000  ...                  0.992648\n",
            "Humidity                        -0.266483  ...                 -0.249475\n",
            "Wind Speed (km/h)                0.027255  ...                 -0.023181\n",
            "Wind Bearing (degrees)           0.029556  ...                  0.029006\n",
            "Visibility (km)                  0.158395  ...                  0.158082\n",
            "Pressure (millibars)            -0.310469  ...                 -0.288406\n",
            "Apparent Temperature (C)         0.992648  ...                  1.000000\n",
            "\n",
            "[7 rows x 7 columns]\n"
          ],
          "name": "stdout"
        },
        {
          "output_type": "execute_result",
          "data": {
            "text/plain": [
              "<matplotlib.axes._subplots.AxesSubplot at 0x7fc584587b90>"
            ]
          },
          "metadata": {
            "tags": []
          },
          "execution_count": 412
        },
        {
          "output_type": "display_data",
          "data": {
            "image/png": "[encoded data removed]",
            "text/plain": [
              "<Figure size 432x288 with 2 Axes>"
            ]
          },
          "metadata": {
            "tags": [],
            "needs_background": "light"
          }
        }
      ]
    },
    {
      "cell_type": "markdown",
      "metadata": {
        "id": "UNiv2Dgex4hx"
      },
      "source": [
        "PCA"
      ]
    },
    {
      "cell_type": "code",
      "metadata": {
        "id": "t47coal5dhC-"
      },
      "source": [
        "pca = PCA()\n",
        "\n",
        "X1_Scaled_pca = pca.fit_transform(X1) \n"
      ],
      "execution_count": 413,
      "outputs": []
    },
    {
      "cell_type": "code",
      "metadata": {
        "colab": {
          "base_uri": "https://localhost:8080/"
        },
        "id": "c_pnh1lAdkxL",
        "outputId": "52468131-3ee9-4c7f-dc8f-b65cf62b594a"
      },
      "source": [
        "pca.explained_variance_ratio_"
      ],
      "execution_count": 414,
      "outputs": [
        {
          "output_type": "execute_result",
          "data": {
            "text/plain": [
              "array([4.74785897e-01, 1.43928697e-01, 9.89785003e-02, 8.63311294e-02,\n",
              "       7.26999774e-02, 5.14780238e-02, 2.62385176e-02, 1.62972101e-02,\n",
              "       1.12676045e-02, 1.00544794e-02, 5.11954753e-03, 7.15358864e-04,\n",
              "       6.98893885e-04, 4.82826771e-04, 3.79406827e-04, 1.07946057e-04,\n",
              "       7.07849269e-05, 5.87735549e-05, 4.82135676e-05, 4.00938788e-05,\n",
              "       3.68701587e-05, 3.43048920e-05, 3.22130079e-05, 3.16915855e-05,\n",
              "       2.85549035e-05, 1.66541452e-05, 1.35557516e-05, 9.71093284e-06,\n",
              "       6.78875555e-06, 3.88520682e-06, 1.08799510e-06, 9.33747487e-07,\n",
              "       9.33719961e-07, 9.33640393e-07, 9.36350080e-32, 2.92259563e-33])"
            ]
          },
          "metadata": {
            "tags": []
          },
          "execution_count": 414
        }
      ]
    },
    {
      "cell_type": "code",
      "metadata": {
        "colab": {
          "base_uri": "https://localhost:8080/",
          "height": 419
        },
        "id": "-ClAVPPKIq90",
        "outputId": "8f29fafc-8117-421f-b882-4cab47e4a7bd"
      },
      "source": [
        "pca = PCA()\n",
        "\n",
        "X1_Scaled_pca = PCA(n_components=7).fit_transform(X1) \n",
        "\n",
        "principalDf=pd.DataFrame(data =X1_Scaled_pca)\n",
        "\n",
        "principalDf"
      ],
      "execution_count": 415,
      "outputs": [
        {
          "output_type": "execute_result",
          "data": {
            "text/html": [
              "<div>\n",
              "<style scoped>\n",
              "    .dataframe tbody tr th:only-of-type {\n",
              "        vertical-align: middle;\n",
              "    }\n",
              "\n",
              "    .dataframe tbody tr th {\n",
              "        vertical-align: top;\n",
              "    }\n",
              "\n",
              "    .dataframe thead th {\n",
              "        text-align: right;\n",
              "    }\n",
              "</style>\n",
              "<table border=\"1\" class=\"dataframe\">\n",
              "  <thead>\n",
              "    <tr style=\"text-align: right;\">\n",
              "      <th></th>\n",
              "      <th>0</th>\n",
              "      <th>1</th>\n",
              "      <th>2</th>\n",
              "      <th>3</th>\n",
              "      <th>4</th>\n",
              "      <th>5</th>\n",
              "      <th>6</th>\n",
              "    </tr>\n",
              "  </thead>\n",
              "  <tbody>\n",
              "    <tr>\n",
              "      <th>0</th>\n",
              "      <td>-1.339946</td>\n",
              "      <td>-0.643518</td>\n",
              "      <td>0.784567</td>\n",
              "      <td>-0.268540</td>\n",
              "      <td>1.317942</td>\n",
              "      <td>0.016879</td>\n",
              "      <td>0.633361</td>\n",
              "    </tr>\n",
              "    <tr>\n",
              "      <th>1</th>\n",
              "      <td>-1.339515</td>\n",
              "      <td>-0.669310</td>\n",
              "      <td>0.841186</td>\n",
              "      <td>-0.381101</td>\n",
              "      <td>1.264066</td>\n",
              "      <td>0.043916</td>\n",
              "      <td>0.633229</td>\n",
              "    </tr>\n",
              "    <tr>\n",
              "      <th>2</th>\n",
              "      <td>-0.243747</td>\n",
              "      <td>0.138435</td>\n",
              "      <td>0.251865</td>\n",
              "      <td>0.198190</td>\n",
              "      <td>-0.220649</td>\n",
              "      <td>0.609828</td>\n",
              "      <td>-0.713952</td>\n",
              "    </tr>\n",
              "    <tr>\n",
              "      <th>3</th>\n",
              "      <td>-1.332210</td>\n",
              "      <td>-0.578010</td>\n",
              "      <td>0.903390</td>\n",
              "      <td>-0.483398</td>\n",
              "      <td>1.255925</td>\n",
              "      <td>0.078133</td>\n",
              "      <td>0.637332</td>\n",
              "    </tr>\n",
              "    <tr>\n",
              "      <th>4</th>\n",
              "      <td>-1.314136</td>\n",
              "      <td>-0.496978</td>\n",
              "      <td>0.905898</td>\n",
              "      <td>-0.391573</td>\n",
              "      <td>1.219761</td>\n",
              "      <td>0.368756</td>\n",
              "      <td>-0.747122</td>\n",
              "    </tr>\n",
              "    <tr>\n",
              "      <th>...</th>\n",
              "      <td>...</td>\n",
              "      <td>...</td>\n",
              "      <td>...</td>\n",
              "      <td>...</td>\n",
              "      <td>...</td>\n",
              "      <td>...</td>\n",
              "      <td>...</td>\n",
              "    </tr>\n",
              "    <tr>\n",
              "      <th>95136</th>\n",
              "      <td>3.608763</td>\n",
              "      <td>-2.518857</td>\n",
              "      <td>1.374463</td>\n",
              "      <td>0.154172</td>\n",
              "      <td>1.660047</td>\n",
              "      <td>-0.770588</td>\n",
              "      <td>0.414623</td>\n",
              "    </tr>\n",
              "    <tr>\n",
              "      <th>95137</th>\n",
              "      <td>3.619170</td>\n",
              "      <td>-1.737864</td>\n",
              "      <td>0.252321</td>\n",
              "      <td>0.061818</td>\n",
              "      <td>0.173806</td>\n",
              "      <td>-0.713052</td>\n",
              "      <td>0.481091</td>\n",
              "    </tr>\n",
              "    <tr>\n",
              "      <th>95138</th>\n",
              "      <td>3.642515</td>\n",
              "      <td>-2.150052</td>\n",
              "      <td>1.533058</td>\n",
              "      <td>0.057598</td>\n",
              "      <td>1.694271</td>\n",
              "      <td>-0.566554</td>\n",
              "      <td>0.443024</td>\n",
              "    </tr>\n",
              "    <tr>\n",
              "      <th>95139</th>\n",
              "      <td>3.632106</td>\n",
              "      <td>-2.129125</td>\n",
              "      <td>1.472347</td>\n",
              "      <td>-0.057017</td>\n",
              "      <td>1.756811</td>\n",
              "      <td>-0.611358</td>\n",
              "      <td>0.446917</td>\n",
              "    </tr>\n",
              "    <tr>\n",
              "      <th>95140</th>\n",
              "      <td>2.684597</td>\n",
              "      <td>-1.229736</td>\n",
              "      <td>0.577175</td>\n",
              "      <td>0.179490</td>\n",
              "      <td>0.031709</td>\n",
              "      <td>-0.351204</td>\n",
              "      <td>0.513523</td>\n",
              "    </tr>\n",
              "  </tbody>\n",
              "</table>\n",
              "<p>95141 rows × 7 columns</p>\n",
              "</div>"
            ],
            "text/plain": [
              "              0         1         2         3         4         5         6\n",
              "0     -1.339946 -0.643518  0.784567 -0.268540  1.317942  0.016879  0.633361\n",
              "1     -1.339515 -0.669310  0.841186 -0.381101  1.264066  0.043916  0.633229\n",
              "2     -0.243747  0.138435  0.251865  0.198190 -0.220649  0.609828 -0.713952\n",
              "3     -1.332210 -0.578010  0.903390 -0.483398  1.255925  0.078133  0.637332\n",
              "4     -1.314136 -0.496978  0.905898 -0.391573  1.219761  0.368756 -0.747122\n",
              "...         ...       ...       ...       ...       ...       ...       ...\n",
              "95136  3.608763 -2.518857  1.374463  0.154172  1.660047 -0.770588  0.414623\n",
              "95137  3.619170 -1.737864  0.252321  0.061818  0.173806 -0.713052  0.481091\n",
              "95138  3.642515 -2.150052  1.533058  0.057598  1.694271 -0.566554  0.443024\n",
              "95139  3.632106 -2.129125  1.472347 -0.057017  1.756811 -0.611358  0.446917\n",
              "95140  2.684597 -1.229736  0.577175  0.179490  0.031709 -0.351204  0.513523\n",
              "\n",
              "[95141 rows x 7 columns]"
            ]
          },
          "metadata": {
            "tags": []
          },
          "execution_count": 415
        }
      ]
    },
    {
      "cell_type": "code",
      "metadata": {
        "id": "6WTRSDn-JlmH",
        "colab": {
          "base_uri": "https://localhost:8080/",
          "height": 359
        },
        "outputId": "ce12f01a-c590-4072-91e5-b4e10be30290"
      },
      "source": [
        "y=y_true\n",
        "finalDf = pd.concat([principalDf, pd.DataFrame(y)], axis = 1)\n",
        "finalDf.head(10)"
      ],
      "execution_count": 416,
      "outputs": [
        {
          "output_type": "execute_result",
          "data": {
            "text/html": [
              "<div>\n",
              "<style scoped>\n",
              "    .dataframe tbody tr th:only-of-type {\n",
              "        vertical-align: middle;\n",
              "    }\n",
              "\n",
              "    .dataframe tbody tr th {\n",
              "        vertical-align: top;\n",
              "    }\n",
              "\n",
              "    .dataframe thead th {\n",
              "        text-align: right;\n",
              "    }\n",
              "</style>\n",
              "<table border=\"1\" class=\"dataframe\">\n",
              "  <thead>\n",
              "    <tr style=\"text-align: right;\">\n",
              "      <th></th>\n",
              "      <th>0</th>\n",
              "      <th>1</th>\n",
              "      <th>2</th>\n",
              "      <th>3</th>\n",
              "      <th>4</th>\n",
              "      <th>5</th>\n",
              "      <th>6</th>\n",
              "      <th>Apparent Temperature (C)</th>\n",
              "    </tr>\n",
              "  </thead>\n",
              "  <tbody>\n",
              "    <tr>\n",
              "      <th>0</th>\n",
              "      <td>-1.339946</td>\n",
              "      <td>-0.643518</td>\n",
              "      <td>0.784567</td>\n",
              "      <td>-0.268540</td>\n",
              "      <td>1.317942</td>\n",
              "      <td>0.016879</td>\n",
              "      <td>0.633361</td>\n",
              "      <td>7.388889</td>\n",
              "    </tr>\n",
              "    <tr>\n",
              "      <th>1</th>\n",
              "      <td>-1.339515</td>\n",
              "      <td>-0.669310</td>\n",
              "      <td>0.841186</td>\n",
              "      <td>-0.381101</td>\n",
              "      <td>1.264066</td>\n",
              "      <td>0.043916</td>\n",
              "      <td>0.633229</td>\n",
              "      <td>7.227778</td>\n",
              "    </tr>\n",
              "    <tr>\n",
              "      <th>2</th>\n",
              "      <td>-0.243747</td>\n",
              "      <td>0.138435</td>\n",
              "      <td>0.251865</td>\n",
              "      <td>0.198190</td>\n",
              "      <td>-0.220649</td>\n",
              "      <td>0.609828</td>\n",
              "      <td>-0.713952</td>\n",
              "      <td>9.377778</td>\n",
              "    </tr>\n",
              "    <tr>\n",
              "      <th>3</th>\n",
              "      <td>-1.332210</td>\n",
              "      <td>-0.578010</td>\n",
              "      <td>0.903390</td>\n",
              "      <td>-0.483398</td>\n",
              "      <td>1.255925</td>\n",
              "      <td>0.078133</td>\n",
              "      <td>0.637332</td>\n",
              "      <td>5.944444</td>\n",
              "    </tr>\n",
              "    <tr>\n",
              "      <th>4</th>\n",
              "      <td>-1.314136</td>\n",
              "      <td>-0.496978</td>\n",
              "      <td>0.905898</td>\n",
              "      <td>-0.391573</td>\n",
              "      <td>1.219761</td>\n",
              "      <td>0.368756</td>\n",
              "      <td>-0.747122</td>\n",
              "      <td>6.977778</td>\n",
              "    </tr>\n",
              "    <tr>\n",
              "      <th>5</th>\n",
              "      <td>-1.335397</td>\n",
              "      <td>-0.100438</td>\n",
              "      <td>-0.056060</td>\n",
              "      <td>-0.481748</td>\n",
              "      <td>0.018700</td>\n",
              "      <td>0.000430</td>\n",
              "      <td>0.670469</td>\n",
              "      <td>7.111111</td>\n",
              "    </tr>\n",
              "    <tr>\n",
              "      <th>6</th>\n",
              "      <td>-1.304354</td>\n",
              "      <td>0.709506</td>\n",
              "      <td>-0.547760</td>\n",
              "      <td>0.212610</td>\n",
              "      <td>0.124778</td>\n",
              "      <td>-0.412934</td>\n",
              "      <td>0.650391</td>\n",
              "      <td>5.522222</td>\n",
              "    </tr>\n",
              "    <tr>\n",
              "      <th>7</th>\n",
              "      <td>-1.333312</td>\n",
              "      <td>0.147833</td>\n",
              "      <td>-0.361617</td>\n",
              "      <td>-0.435239</td>\n",
              "      <td>-0.245204</td>\n",
              "      <td>-0.059911</td>\n",
              "      <td>0.680950</td>\n",
              "      <td>6.527778</td>\n",
              "    </tr>\n",
              "    <tr>\n",
              "      <th>8</th>\n",
              "      <td>-1.318207</td>\n",
              "      <td>-0.001385</td>\n",
              "      <td>-0.159665</td>\n",
              "      <td>-0.390765</td>\n",
              "      <td>-0.478328</td>\n",
              "      <td>-0.047385</td>\n",
              "      <td>0.653707</td>\n",
              "      <td>10.822222</td>\n",
              "    </tr>\n",
              "    <tr>\n",
              "      <th>9</th>\n",
              "      <td>-2.328575</td>\n",
              "      <td>-0.166881</td>\n",
              "      <td>-0.123214</td>\n",
              "      <td>-0.315599</td>\n",
              "      <td>-0.581723</td>\n",
              "      <td>-0.210989</td>\n",
              "      <td>0.620388</td>\n",
              "      <td>13.772222</td>\n",
              "    </tr>\n",
              "  </tbody>\n",
              "</table>\n",
              "</div>"
            ],
            "text/plain": [
              "          0         1         2  ...         5         6  Apparent Temperature (C)\n",
              "0 -1.339946 -0.643518  0.784567  ...  0.016879  0.633361                  7.388889\n",
              "1 -1.339515 -0.669310  0.841186  ...  0.043916  0.633229                  7.227778\n",
              "2 -0.243747  0.138435  0.251865  ...  0.609828 -0.713952                  9.377778\n",
              "3 -1.332210 -0.578010  0.903390  ...  0.078133  0.637332                  5.944444\n",
              "4 -1.314136 -0.496978  0.905898  ...  0.368756 -0.747122                  6.977778\n",
              "5 -1.335397 -0.100438 -0.056060  ...  0.000430  0.670469                  7.111111\n",
              "6 -1.304354  0.709506 -0.547760  ... -0.412934  0.650391                  5.522222\n",
              "7 -1.333312  0.147833 -0.361617  ... -0.059911  0.680950                  6.527778\n",
              "8 -1.318207 -0.001385 -0.159665  ... -0.047385  0.653707                 10.822222\n",
              "9 -2.328575 -0.166881 -0.123214  ... -0.210989  0.620388                 13.772222\n",
              "\n",
              "[10 rows x 8 columns]"
            ]
          },
          "metadata": {
            "tags": []
          },
          "execution_count": 416
        }
      ]
    },
    {
      "cell_type": "markdown",
      "metadata": {
        "id": "2t3r5k6Zx7TU"
      },
      "source": [
        "Splitting testing and training set"
      ]
    },
    {
      "cell_type": "code",
      "metadata": {
        "id": "ctXi7IUNQmcC"
      },
      "source": [
        "from sklearn import datasets, linear_model\n",
        "from sklearn.model_selection import train_test_split"
      ],
      "execution_count": 417,
      "outputs": []
    },
    {
      "cell_type": "code",
      "metadata": {
        "id": "cwB5-7pvQrVN"
      },
      "source": [
        "X_train,X_test,Y_train,Y_test= train_test_split(principalDf,y,test_size=0.2)"
      ],
      "execution_count": 418,
      "outputs": []
    },
    {
      "cell_type": "code",
      "metadata": {
        "id": "OeYyB2FWkROM"
      },
      "source": [
        "X_train=X_train.reset_index(drop=True)\n",
        "X_test=X_test.reset_index(drop=True)\n",
        "Y_train=Y_train.reset_index(drop=True)\n",
        "Y_test=Y_test.reset_index(drop=True)"
      ],
      "execution_count": 419,
      "outputs": []
    },
    {
      "cell_type": "code",
      "metadata": {
        "colab": {
          "base_uri": "https://localhost:8080/",
          "height": 204
        },
        "id": "P25k23A7lJGI",
        "outputId": "c3bdc4a1-6eb6-4790-a22e-24a45a56416c"
      },
      "source": [
        "X_train.head()"
      ],
      "execution_count": 420,
      "outputs": [
        {
          "output_type": "execute_result",
          "data": {
            "text/html": [
              "<div>\n",
              "<style scoped>\n",
              "    .dataframe tbody tr th:only-of-type {\n",
              "        vertical-align: middle;\n",
              "    }\n",
              "\n",
              "    .dataframe tbody tr th {\n",
              "        vertical-align: top;\n",
              "    }\n",
              "\n",
              "    .dataframe thead th {\n",
              "        text-align: right;\n",
              "    }\n",
              "</style>\n",
              "<table border=\"1\" class=\"dataframe\">\n",
              "  <thead>\n",
              "    <tr style=\"text-align: right;\">\n",
              "      <th></th>\n",
              "      <th>0</th>\n",
              "      <th>1</th>\n",
              "      <th>2</th>\n",
              "      <th>3</th>\n",
              "      <th>4</th>\n",
              "      <th>5</th>\n",
              "      <th>6</th>\n",
              "    </tr>\n",
              "  </thead>\n",
              "  <tbody>\n",
              "    <tr>\n",
              "      <th>0</th>\n",
              "      <td>0.748061</td>\n",
              "      <td>1.416268</td>\n",
              "      <td>-0.389787</td>\n",
              "      <td>-1.134533</td>\n",
              "      <td>0.270362</td>\n",
              "      <td>1.191468</td>\n",
              "      <td>0.432758</td>\n",
              "    </tr>\n",
              "    <tr>\n",
              "      <th>1</th>\n",
              "      <td>3.929366</td>\n",
              "      <td>2.828154</td>\n",
              "      <td>0.869104</td>\n",
              "      <td>-1.688620</td>\n",
              "      <td>-0.140318</td>\n",
              "      <td>0.660860</td>\n",
              "      <td>0.198633</td>\n",
              "    </tr>\n",
              "    <tr>\n",
              "      <th>2</th>\n",
              "      <td>-2.328895</td>\n",
              "      <td>-0.425202</td>\n",
              "      <td>0.064080</td>\n",
              "      <td>-0.024407</td>\n",
              "      <td>-0.288303</td>\n",
              "      <td>-0.202652</td>\n",
              "      <td>0.604012</td>\n",
              "    </tr>\n",
              "    <tr>\n",
              "      <th>3</th>\n",
              "      <td>2.869571</td>\n",
              "      <td>2.647623</td>\n",
              "      <td>0.242767</td>\n",
              "      <td>-0.629122</td>\n",
              "      <td>0.246996</td>\n",
              "      <td>-0.784088</td>\n",
              "      <td>0.018860</td>\n",
              "    </tr>\n",
              "    <tr>\n",
              "      <th>4</th>\n",
              "      <td>-2.361108</td>\n",
              "      <td>-0.289887</td>\n",
              "      <td>-0.303301</td>\n",
              "      <td>-0.447637</td>\n",
              "      <td>0.067263</td>\n",
              "      <td>0.027861</td>\n",
              "      <td>0.092876</td>\n",
              "    </tr>\n",
              "  </tbody>\n",
              "</table>\n",
              "</div>"
            ],
            "text/plain": [
              "          0         1         2         3         4         5         6\n",
              "0  0.748061  1.416268 -0.389787 -1.134533  0.270362  1.191468  0.432758\n",
              "1  3.929366  2.828154  0.869104 -1.688620 -0.140318  0.660860  0.198633\n",
              "2 -2.328895 -0.425202  0.064080 -0.024407 -0.288303 -0.202652  0.604012\n",
              "3  2.869571  2.647623  0.242767 -0.629122  0.246996 -0.784088  0.018860\n",
              "4 -2.361108 -0.289887 -0.303301 -0.447637  0.067263  0.027861  0.092876"
            ]
          },
          "metadata": {
            "tags": []
          },
          "execution_count": 420
        }
      ]
    },
    {
      "cell_type": "code",
      "metadata": {
        "colab": {
          "base_uri": "https://localhost:8080/",
          "height": 204
        },
        "id": "bYm-tXtQlMKZ",
        "outputId": "e4d0397b-fd47-4bd3-be2a-28f8a7fc51ce"
      },
      "source": [
        "Y_train.head()"
      ],
      "execution_count": 421,
      "outputs": [
        {
          "output_type": "execute_result",
          "data": {
            "text/html": [
              "<div>\n",
              "<style scoped>\n",
              "    .dataframe tbody tr th:only-of-type {\n",
              "        vertical-align: middle;\n",
              "    }\n",
              "\n",
              "    .dataframe tbody tr th {\n",
              "        vertical-align: top;\n",
              "    }\n",
              "\n",
              "    .dataframe thead th {\n",
              "        text-align: right;\n",
              "    }\n",
              "</style>\n",
              "<table border=\"1\" class=\"dataframe\">\n",
              "  <thead>\n",
              "    <tr style=\"text-align: right;\">\n",
              "      <th></th>\n",
              "      <th>Apparent Temperature (C)</th>\n",
              "    </tr>\n",
              "  </thead>\n",
              "  <tbody>\n",
              "    <tr>\n",
              "      <th>0</th>\n",
              "      <td>-9.161111</td>\n",
              "    </tr>\n",
              "    <tr>\n",
              "      <th>1</th>\n",
              "      <td>-12.222222</td>\n",
              "    </tr>\n",
              "    <tr>\n",
              "      <th>2</th>\n",
              "      <td>15.494444</td>\n",
              "    </tr>\n",
              "    <tr>\n",
              "      <th>3</th>\n",
              "      <td>-3.038889</td>\n",
              "    </tr>\n",
              "    <tr>\n",
              "      <th>4</th>\n",
              "      <td>13.466667</td>\n",
              "    </tr>\n",
              "  </tbody>\n",
              "</table>\n",
              "</div>"
            ],
            "text/plain": [
              "   Apparent Temperature (C)\n",
              "0                 -9.161111\n",
              "1                -12.222222\n",
              "2                 15.494444\n",
              "3                 -3.038889\n",
              "4                 13.466667"
            ]
          },
          "metadata": {
            "tags": []
          },
          "execution_count": 421
        }
      ]
    },
    {
      "cell_type": "markdown",
      "metadata": {
        "id": "5mdGKx0xyBPc"
      },
      "source": [
        "Linear Regression"
      ]
    },
    {
      "cell_type": "code",
      "metadata": {
        "id": "AKgYQDAlQuAV"
      },
      "source": [
        "from sklearn import linear_model\n",
        "from sklearn.metrics import accuracy_score\n",
        "from sklearn.linear_model import LinearRegression"
      ],
      "execution_count": 422,
      "outputs": []
    },
    {
      "cell_type": "code",
      "metadata": {
        "id": "TVoi0YM_Qxuq"
      },
      "source": [
        "lm = linear_model.LinearRegression()\n",
        "model = lm.fit(X_train, Y_train)\n",
        "y_hat = lm.predict(X_test)"
      ],
      "execution_count": 423,
      "outputs": []
    },
    {
      "cell_type": "code",
      "metadata": {
        "colab": {
          "base_uri": "https://localhost:8080/"
        },
        "id": "l6ok72j7mpVm",
        "outputId": "f92e8611-281f-45ca-8b1a-6884533462be"
      },
      "source": [
        "print(y_hat)"
      ],
      "execution_count": 424,
      "outputs": [
        {
          "output_type": "stream",
          "text": [
            "[[ 14.25357584]\n",
            " [  0.33677923]\n",
            " [-12.99824644]\n",
            " ...\n",
            " [ 25.66889568]\n",
            " [ 17.47187696]\n",
            " [-11.62758544]]\n"
          ],
          "name": "stdout"
        }
      ]
    },
    {
      "cell_type": "code",
      "metadata": {
        "colab": {
          "base_uri": "https://localhost:8080/"
        },
        "id": "ZAWqS2A1a06O",
        "outputId": "f371d308-f6b8-4c96-ecca-a253e91df455"
      },
      "source": [
        "from sklearn.metrics import mean_squared_error\n",
        "mean_squared_error(Y_test, y_hat)"
      ],
      "execution_count": 425,
      "outputs": [
        {
          "output_type": "execute_result",
          "data": {
            "text/plain": [
              "2.6008740530865446"
            ]
          },
          "metadata": {
            "tags": []
          },
          "execution_count": 425
        }
      ]
    },
    {
      "cell_type": "code",
      "metadata": {
        "colab": {
          "base_uri": "https://localhost:8080/"
        },
        "id": "t30DcjqxbOXs",
        "outputId": "d25783ce-682a-4615-ecb2-514af060b763"
      },
      "source": [
        "#Root Mean Sqaured Error\n",
        "from math import sqrt\n",
        "rmsq = sqrt(mean_squared_error(Y_test, y_hat))\n",
        "rmsq"
      ],
      "execution_count": 426,
      "outputs": [
        {
          "output_type": "execute_result",
          "data": {
            "text/plain": [
              "1.6127225592415282"
            ]
          },
          "metadata": {
            "tags": []
          },
          "execution_count": 426
        }
      ]
    },
    {
      "cell_type": "code",
      "metadata": {
        "colab": {
          "base_uri": "https://localhost:8080/"
        },
        "id": "lU5N-xYTOF-2",
        "outputId": "96de14bd-b0c4-407b-8c6e-eba0695f7264"
      },
      "source": [
        "# percentage of explained variance of the predictions\n",
        "print(\"accuracy:\",lm.score(X_test,Y_test))"
      ],
      "execution_count": 427,
      "outputs": [
        {
          "output_type": "stream",
          "text": [
            "accuracy: 0.9773055660960216\n"
          ],
          "name": "stdout"
        }
      ]
    },
    {
      "cell_type": "code",
      "metadata": {
        "colab": {
          "base_uri": "https://localhost:8080/",
          "height": 419
        },
        "id": "OQFa5gRDk8XL",
        "outputId": "c03487b8-00e1-4045-bf10-f151d46cf30a"
      },
      "source": [
        "Y_test"
      ],
      "execution_count": 428,
      "outputs": [
        {
          "output_type": "execute_result",
          "data": {
            "text/html": [
              "<div>\n",
              "<style scoped>\n",
              "    .dataframe tbody tr th:only-of-type {\n",
              "        vertical-align: middle;\n",
              "    }\n",
              "\n",
              "    .dataframe tbody tr th {\n",
              "        vertical-align: top;\n",
              "    }\n",
              "\n",
              "    .dataframe thead th {\n",
              "        text-align: right;\n",
              "    }\n",
              "</style>\n",
              "<table border=\"1\" class=\"dataframe\">\n",
              "  <thead>\n",
              "    <tr style=\"text-align: right;\">\n",
              "      <th></th>\n",
              "      <th>Apparent Temperature (C)</th>\n",
              "    </tr>\n",
              "  </thead>\n",
              "  <tbody>\n",
              "    <tr>\n",
              "      <th>0</th>\n",
              "      <td>14.883333</td>\n",
              "    </tr>\n",
              "    <tr>\n",
              "      <th>1</th>\n",
              "      <td>-3.055556</td>\n",
              "    </tr>\n",
              "    <tr>\n",
              "      <th>2</th>\n",
              "      <td>-11.161111</td>\n",
              "    </tr>\n",
              "    <tr>\n",
              "      <th>3</th>\n",
              "      <td>5.966667</td>\n",
              "    </tr>\n",
              "    <tr>\n",
              "      <th>4</th>\n",
              "      <td>-0.605556</td>\n",
              "    </tr>\n",
              "    <tr>\n",
              "      <th>...</th>\n",
              "      <td>...</td>\n",
              "    </tr>\n",
              "    <tr>\n",
              "      <th>19024</th>\n",
              "      <td>18.750000</td>\n",
              "    </tr>\n",
              "    <tr>\n",
              "      <th>19025</th>\n",
              "      <td>19.716667</td>\n",
              "    </tr>\n",
              "    <tr>\n",
              "      <th>19026</th>\n",
              "      <td>25.622222</td>\n",
              "    </tr>\n",
              "    <tr>\n",
              "      <th>19027</th>\n",
              "      <td>17.711111</td>\n",
              "    </tr>\n",
              "    <tr>\n",
              "      <th>19028</th>\n",
              "      <td>-11.716667</td>\n",
              "    </tr>\n",
              "  </tbody>\n",
              "</table>\n",
              "<p>19029 rows × 1 columns</p>\n",
              "</div>"
            ],
            "text/plain": [
              "       Apparent Temperature (C)\n",
              "0                     14.883333\n",
              "1                     -3.055556\n",
              "2                    -11.161111\n",
              "3                      5.966667\n",
              "4                     -0.605556\n",
              "...                         ...\n",
              "19024                 18.750000\n",
              "19025                 19.716667\n",
              "19026                 25.622222\n",
              "19027                 17.711111\n",
              "19028                -11.716667\n",
              "\n",
              "[19029 rows x 1 columns]"
            ]
          },
          "metadata": {
            "tags": []
          },
          "execution_count": 428
        }
      ]
    },
    {
      "cell_type": "code",
      "metadata": {
        "colab": {
          "base_uri": "https://localhost:8080/"
        },
        "id": "6RcDgnKLo5an",
        "outputId": "990d8c96-d593-46fb-9f05-da821559b6b8"
      },
      "source": [
        "print(lm.coef_)"
      ],
      "execution_count": 429,
      "outputs": [
        {
          "output_type": "stream",
          "text": [
            "[[-0.2145212  -6.41511963  0.92524949  3.60281895 -3.75577096 -5.70163794\n",
            "  -1.40133747]]\n"
          ],
          "name": "stdout"
        }
      ]
    },
    {
      "cell_type": "code",
      "metadata": {
        "colab": {
          "base_uri": "https://localhost:8080/"
        },
        "id": "95cNpcGFnIvN",
        "outputId": "94129240-a4f3-4e87-a02c-198829c10a66"
      },
      "source": [
        "print(lm.intercept_)"
      ],
      "execution_count": 430,
      "outputs": [
        {
          "output_type": "stream",
          "text": [
            "[10.87779065]\n"
          ],
          "name": "stdout"
        }
      ]
    },
    {
      "cell_type": "code",
      "metadata": {
        "colab": {
          "base_uri": "https://localhost:8080/"
        },
        "id": "iTXoe9lnByKS",
        "outputId": "5369463c-7094-48b3-e616-f5583e30c3a4"
      },
      "source": [
        "finaldataframe =pd.DataFrame(Y_test)\n",
        "finaldataframe['y_hat']=y_hat\n",
        "finaldataframe2=finaldataframe.reset_index(drop=True)\n",
        "finaldataframe2.dtypes\n"
      ],
      "execution_count": 431,
      "outputs": [
        {
          "output_type": "execute_result",
          "data": {
            "text/plain": [
              "Apparent Temperature (C)    float64\n",
              "y_hat                       float64\n",
              "dtype: object"
            ]
          },
          "metadata": {
            "tags": []
          },
          "execution_count": 431
        }
      ]
    },
    {
      "cell_type": "code",
      "metadata": {
        "colab": {
          "base_uri": "https://localhost:8080/",
          "height": 279
        },
        "id": "3xPZndk6CBiq",
        "outputId": "a3c2ab99-5a39-4c2d-8629-cfeee1b3ac96"
      },
      "source": [
        "plt.plot(finaldataframe2['y_hat'][:100], label = \"Pred\")\n",
        "plt.plot(finaldataframe2['Apparent Temperature (C)'][:100], label = \"Actual\")\n",
        "plt.xlabel('x - axis')\n",
        "plt.ylabel('y - axis')\n",
        "plt.legend()\n",
        "plt.show()"
      ],
      "execution_count": 432,
      "outputs": [
        {
          "output_type": "display_data",
          "data": {
            "image/png": "[encoded data removed]",
            "text/plain": [
              "<Figure size 432x288 with 1 Axes>"
            ]
          },
          "metadata": {
            "tags": [],
            "needs_background": "light"
          }
        }
      ]
    },
    {
      "cell_type": "code",
      "metadata": {
        "id": "gKrZNmLtLaV-"
      },
      "source": [
        ""
      ],
      "execution_count": null,
      "outputs": []
    }
  ]
}